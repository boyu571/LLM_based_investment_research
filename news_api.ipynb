{
 "cells": [
  {
   "cell_type": "code",
   "execution_count": 42,
   "metadata": {},
   "outputs": [],
   "source": [
    "import requests\n",
    "import pandas as pd\n",
    "import numpy as np\n",
    "from bs4 import BeautifulSoup\n",
    "import time\n",
    "import re\n",
    "from tqdm import tqdm\n",
    "import random\n",
    "import os\n",
    "\n",
    "# 열의 최대 너비 설정\n",
    "pd.set_option('display.max_colwidth', None)\n",
    "\n",
    "# 최대 표시 행 수 설정\n",
    "pd.set_option('display.max_rows', None)\n",
    "\n",
    "api_key = \"64a1bdc693984439b9e3a23e58ea5162\""
   ]
  },
  {
   "cell_type": "code",
   "execution_count": 43,
   "metadata": {},
   "outputs": [],
   "source": [
    "def get_sources(api_key, language=\"en\"):\n",
    "    base_url = \"https://newsapi.org/v2/sources\"\n",
    "    parameters = {\n",
    "        \"language\": language,\n",
    "        \"apiKey\": api_key\n",
    "    }\n",
    "    response = requests.get(base_url, params=parameters)\n",
    "    if response.status_code == 200:\n",
    "        return [source['id'] for source in response.json()['sources']]\n",
    "    else:\n",
    "        return []"
   ]
  },
  {
   "cell_type": "code",
   "execution_count": 38,
   "metadata": {},
   "outputs": [],
   "source": [
    "import time\n",
    "\n",
    "def get_news(api_key, start_date, end_date, query=\"bitcoin\", language=\"en\", page_size=100, max_pages=5, delay=2):\n",
    "    base_url = \"https://newsapi.org/v2/everything\"\n",
    "    all_articles = []\n",
    "    \n",
    "    for page in range(1, max_pages + 1):\n",
    "        parameters = {\n",
    "            \"q\": query,\n",
    "            \"language\": language,\n",
    "            \"pageSize\": page_size,\n",
    "            \"page\": page,\n",
    "            \"apiKey\": api_key,\n",
    "            \"from\": start_date,\n",
    "            \"to\": end_date,\n",
    "            \"sortBy\": \"publishedAt\",\n",
    "            \"sources\" : 'cnn'\n",
    "        }\n",
    "\n",
    "        response = requests.get(base_url, params=parameters)\n",
    "        \n",
    "        if response.status_code == 200:\n",
    "            articles = response.json().get('articles', [])\n",
    "            all_articles.extend(articles)\n",
    "        else:\n",
    "            print(f\"Error on page {page}: {response.status_code}\")\n",
    "        \n",
    "        if page != max_pages:  # 마지막 페이지를 제외하고 대기합니다.\n",
    "            time.sleep(delay)\n",
    "    \n",
    "    return {\"articles\": all_articles}\n"
   ]
  },
  {
   "cell_type": "code",
   "execution_count": 37,
   "metadata": {},
   "outputs": [],
   "source": [
    "def get_news(api_key, start_date, end_date, query=\"bitcoin\", language=\"en\", page_size=100, max_pages=5):\n",
    "    base_url = \"https://newsapi.org/v2/everything\"\n",
    "    all_articles = []\n",
    "    \n",
    "    for page in range(1, max_pages + 1):\n",
    "        parameters = {\n",
    "            \"q\": query,\n",
    "            \"language\": language,\n",
    "            \"pageSize\": page_size,\n",
    "            \"page\": page,\n",
    "            \"apiKey\": api_key,\n",
    "            \"from\": start_date,\n",
    "            \"to\": end_date,\n",
    "            \"sortBy\": \"publishedAt\",\n",
    "            \"sources\" : 'cnn'\n",
    "            \n",
    "        }\n",
    "\n",
    "        response = requests.get(base_url, params=parameters)\n",
    "        \n",
    "        if response.status_code == 200:\n",
    "            articles = response.json().get('articles', [])\n",
    "            all_articles.extend(articles)\n",
    "        else:\n",
    "            print(f\"Error on page {page}: {response.status_code}\")\n",
    "    \n",
    "    return {\"articles\": all_articles}\n"
   ]
  },
  {
   "cell_type": "code",
   "execution_count": 14,
   "metadata": {},
   "outputs": [],
   "source": [
    "def convert_to_dataframe(news_data):\n",
    "    if news_data and \"articles\" in news_data:\n",
    "        df = pd.DataFrame(news_data['articles'])\n",
    "        return df\n",
    "    else:\n",
    "        return pd.DataFrame()"
   ]
  },
  {
   "cell_type": "code",
   "execution_count": 25,
   "metadata": {},
   "outputs": [
    {
     "name": "stdout",
     "output_type": "stream",
     "text": [
      "Error with URL https://hivemind.vc/nostr/: Article `download()` failed with 429 Client Error: Too Many Requests for url: https://hivemind.vc/nostr/ on URL https://hivemind.vc/nostr/\n",
      "Error with URL https://www.forbes.com/sites/digital-assets/2023/09/01/bitcoin-loses-weekly-gains-after-sec-postpones-spot-etf-ruling/: Article `download()` failed with 403 Client Error: Max restarts limit reached for url: https://www.forbes.com/sites/digital-assets/2023/09/01/bitcoin-loses-weekly-gains-after-sec-postpones-spot-etf-ruling/ on URL https://www.forbes.com/sites/digital-assets/2023/09/01/bitcoin-loses-weekly-gains-after-sec-postpones-spot-etf-ruling/\n",
      "Error with URL https://www.forbes.com/sites/owentedford/2023/09/01/gary-genslers-crypto-approach-likely-wont-be-slowed-by-the-courts/: Article `download()` failed with 403 Client Error: Max restarts limit reached for url: https://www.forbes.com/sites/owentedford/2023/09/01/gary-genslers-crypto-approach-likely-wont-be-slowed-by-the-courts/ on URL https://www.forbes.com/sites/owentedford/2023/09/01/gary-genslers-crypto-approach-likely-wont-be-slowed-by-the-courts/\n"
     ]
    }
   ],
   "source": [
    "# from newspaper import Article\n",
    "\n",
    "# def get_full_content(url):\n",
    "#     try:\n",
    "#         article = Article(url)\n",
    "#         article.download()\n",
    "#         article.parse()\n",
    "#         return article.text\n",
    "#     except Exception as e:\n",
    "#         print(f\"Error with URL {url}: {e}\")\n",
    "#         return None\n",
    "\n",
    "# # df['url']를 사용하여 각 URL에 대한 전체 본문 내용을 가져옵니다.\n",
    "# df['full_content'] = df['url'].apply(get_full_content)\n"
   ]
  },
  {
   "cell_type": "code",
   "execution_count": 20,
   "metadata": {},
   "outputs": [],
   "source": [
    "sources = get_sources(api_key)"
   ]
  },
  {
   "cell_type": "code",
   "execution_count": 41,
   "metadata": {},
   "outputs": [
    {
     "data": {
      "text/plain": [
       "81"
      ]
     },
     "execution_count": 41,
     "metadata": {},
     "output_type": "execute_result"
    }
   ],
   "source": [
    "len(sources)"
   ]
  },
  {
   "cell_type": "code",
   "execution_count": 39,
   "metadata": {},
   "outputs": [
    {
     "name": "stdout",
     "output_type": "stream",
     "text": [
      "Error on page 2: 426\n",
      "Error on page 3: 426\n",
      "Error on page 4: 426\n",
      "Error on page 5: 426\n",
      "                         source          author  \\\n",
      "0  {'id': 'cnn', 'name': 'CNN'}  Allison Morrow   \n",
      "\n",
      "                                                     title  \\\n",
      "0  Bankrupt FTX gets permission to liquidate crypto assets   \n",
      "\n",
      "                                                                                                                                                  description  \\\n",
      "0  A bankruptcy judge granted FTX, the collapsed crypto exchange founded by Sam Bankman-Fried, permission to liquidate its digital assets to repay creditors.   \n",
      "\n",
      "                                                                              url  \\\n",
      "0  https://www.cnn.com/2023/09/13/business/ftx-liquidate-crypto-assets/index.html   \n",
      "\n",
      "                                                                                                                          urlToImage  \\\n",
      "0  https://media.cnn.com/api/v1/images/stellar/prod/230913154745-04-sam-bankman-fried-manhattan-court-0726.jpg?c=16x9&q=w_800,c_fill   \n",
      "\n",
      "            publishedAt  \\\n",
      "0  2023-09-13T20:13:15Z   \n",
      "\n",
      "                                                                                                                                                                                                                   content  \n",
      "0  A bankruptcy judge granted FTX, the collapsed crypto exchange founded by Sam Bankman-Fried, permission to liquidate its digital assets to repay creditors. \\r\\nFTX has previously said in bankruptcy cour… [+949 chars]  \n"
     ]
    }
   ],
   "source": [
    "start_date = '2023-09-01'\n",
    "end_date = '2023-09-26'\n",
    "\n",
    "news_data = get_news(api_key, start_date, end_date)\n",
    "df = convert_to_dataframe(news_data)\n",
    "print(df)"
   ]
  },
  {
   "cell_type": "code",
   "execution_count": 36,
   "metadata": {},
   "outputs": [],
   "source": [
    "df.to_csv('crypto_news_api_time.csv', encoding='utf-8-sig')"
   ]
  },
  {
   "cell_type": "code",
   "execution_count": 40,
   "metadata": {},
   "outputs": [
    {
     "data": {
      "text/html": [
       "<div>\n",
       "<style scoped>\n",
       "    .dataframe tbody tr th:only-of-type {\n",
       "        vertical-align: middle;\n",
       "    }\n",
       "\n",
       "    .dataframe tbody tr th {\n",
       "        vertical-align: top;\n",
       "    }\n",
       "\n",
       "    .dataframe thead th {\n",
       "        text-align: right;\n",
       "    }\n",
       "</style>\n",
       "<table border=\"1\" class=\"dataframe\">\n",
       "  <thead>\n",
       "    <tr style=\"text-align: right;\">\n",
       "      <th></th>\n",
       "      <th>source</th>\n",
       "      <th>author</th>\n",
       "      <th>title</th>\n",
       "      <th>description</th>\n",
       "      <th>url</th>\n",
       "      <th>urlToImage</th>\n",
       "      <th>publishedAt</th>\n",
       "      <th>content</th>\n",
       "    </tr>\n",
       "  </thead>\n",
       "  <tbody>\n",
       "    <tr>\n",
       "      <th>0</th>\n",
       "      <td>{'id': 'cnn', 'name': 'CNN'}</td>\n",
       "      <td>Allison Morrow</td>\n",
       "      <td>Bankrupt FTX gets permission to liquidate crypto assets</td>\n",
       "      <td>A bankruptcy judge granted FTX, the collapsed crypto exchange founded by Sam Bankman-Fried, permission to liquidate its digital assets to repay creditors.</td>\n",
       "      <td>https://www.cnn.com/2023/09/13/business/ftx-liquidate-crypto-assets/index.html</td>\n",
       "      <td>https://media.cnn.com/api/v1/images/stellar/prod/230913154745-04-sam-bankman-fried-manhattan-court-0726.jpg?c=16x9&amp;q=w_800,c_fill</td>\n",
       "      <td>2023-09-13T20:13:15Z</td>\n",
       "      <td>A bankruptcy judge granted FTX, the collapsed crypto exchange founded by Sam Bankman-Fried, permission to liquidate its digital assets to repay creditors. \\r\\nFTX has previously said in bankruptcy cour… [+949 chars]</td>\n",
       "    </tr>\n",
       "  </tbody>\n",
       "</table>\n",
       "</div>"
      ],
      "text/plain": [
       "                         source          author  \\\n",
       "0  {'id': 'cnn', 'name': 'CNN'}  Allison Morrow   \n",
       "\n",
       "                                                     title  \\\n",
       "0  Bankrupt FTX gets permission to liquidate crypto assets   \n",
       "\n",
       "                                                                                                                                                  description  \\\n",
       "0  A bankruptcy judge granted FTX, the collapsed crypto exchange founded by Sam Bankman-Fried, permission to liquidate its digital assets to repay creditors.   \n",
       "\n",
       "                                                                              url  \\\n",
       "0  https://www.cnn.com/2023/09/13/business/ftx-liquidate-crypto-assets/index.html   \n",
       "\n",
       "                                                                                                                          urlToImage  \\\n",
       "0  https://media.cnn.com/api/v1/images/stellar/prod/230913154745-04-sam-bankman-fried-manhattan-court-0726.jpg?c=16x9&q=w_800,c_fill   \n",
       "\n",
       "            publishedAt  \\\n",
       "0  2023-09-13T20:13:15Z   \n",
       "\n",
       "                                                                                                                                                                                                                   content  \n",
       "0  A bankruptcy judge granted FTX, the collapsed crypto exchange founded by Sam Bankman-Fried, permission to liquidate its digital assets to repay creditors. \\r\\nFTX has previously said in bankruptcy cour… [+949 chars]  "
      ]
     },
     "execution_count": 40,
     "metadata": {},
     "output_type": "execute_result"
    }
   ],
   "source": [
    "df"
   ]
  },
  {
   "cell_type": "code",
   "execution_count": 30,
   "metadata": {},
   "outputs": [
    {
     "name": "stdout",
     "output_type": "stream",
     "text": [
      "                                               title  \\\n",
      "0  SEC Reportedly Asked Coinbase to Halt All Trad...   \n",
      "1  Everyone's Favorite Knife-Wielding Robot Retur...   \n",
      "2  PayPal launches PYUSD stablecoin backed by the...   \n",
      "3  First Bitcoin ETF Could Be Coming Soon as Cour...   \n",
      "4  Before suing Coinbase, SEC asked it to trade o...   \n",
      "5  Binance Australia customers seen selling bitco...   \n",
      "6  Crypto stocks dip after bitcoin slumps to six-...   \n",
      "7  Bitcoin plunges more than 10% after Elon Musk'...   \n",
      "8  Bitcoin could drop to the $20,000 range if a k...   \n",
      "9  Bitcoin is headed to $180,000 if regulators ap...   \n",
      "\n",
      "                                             content  \n",
      "0  Coinbase’s CEO Brian Armstrong reportedly told...  \n",
      "1  Futurama’s new season continues its examinatio...  \n",
      "2  PayPal is launching its own stablecoin: PayPal...  \n",
      "3  The U.S. Court of Appeals for the D.C. Circuit...  \n",
      "4  A smartphone with displayed Coinbase logo and ...  \n",
      "5  The Binance logo is seen in this illustration ...  \n",
      "6  A bitcoin is seen in an illustration picture t...  \n",
      "7  Bitcoin plunged about 10% after it was reveale...  \n",
      "8  Bitcoin is testing a key support level that, i...  \n",
      "9  Fundstrat's Tom Lee said the approval of a new...  \n"
     ]
    }
   ],
   "source": [
    "# # df는 이전에 생성한 뉴스 데이터 프레임입니다.\n",
    "# df['content'] = df['url'].apply(extract_article_content)\n",
    "# print(df[['title', 'content']])"
   ]
  },
  {
   "cell_type": "code",
   "execution_count": 26,
   "metadata": {},
   "outputs": [
    {
     "name": "stdout",
     "output_type": "stream",
     "text": [
      "\n",
      "\n",
      "Bitcoin finished August about 10% lower, its second consecutive losing month. \n",
      "Crypto was caught up in a tough sell-off that hit stocks and bonds throughout the month. \n",
      "Bitcoin extended losses into September, down more than 2.5% on Friday to trade at $25,660. \n",
      "\n",
      "\n",
      "\n",
      "\n",
      "\n",
      "\n",
      "\n",
      "\n",
      "\n",
      "\n",
      "\n",
      " \n",
      "NEW LOOK\n",
      "\n",
      "\n",
      "                                    Sign up to get the inside scoop on today’s biggest stories in markets, tech, and business — delivered daily. Read preview\n",
      "\n",
      "\n",
      "\n",
      "\n",
      "\n",
      "\n",
      "\n",
      "\n",
      " \n",
      "\n",
      "\n",
      "Loading\n",
      "Something is loading.\n",
      "\n",
      "\n",
      "\n",
      "\n",
      "\n",
      "\n",
      "\n",
      "\n",
      "\n",
      "\n",
      "\n",
      "\n",
      "\n",
      "Thanks for signing up!\n",
      "\n",
      "\n",
      "                              Access your favorite topics in a personalized feed while you're on the go.\n",
      "                              \n",
      "                                download the app\n",
      "                               \n",
      "\n",
      "\n",
      "\n",
      "\n",
      "\n",
      "Email address\n",
      "\n",
      "\n",
      "\n",
      "\n",
      "\n",
      "                                      Sign up\n",
      "                                     \n",
      "\n",
      "\n",
      "\n",
      "                                  By clicking “Sign Up”, you accept our Terms of Service and Privacy Policy. You can opt-out at any time.\n",
      "                              \n",
      "\n",
      "\n",
      "\n",
      "\n",
      "\n",
      "\n",
      "\n",
      "\n",
      " \n",
      "\n",
      "\n",
      "Advertisement\n",
      "\n",
      "\n",
      "Advertisement\n",
      "\n",
      "Bitcoin just capped off its second-straight losing month, shedding more than 10% over the last four weeks. The decline happened alongside a sell-off in stocks and bonds, and on Friday the world's largest cryptocurrency traded around $25,800, lower by more than 2.5% to extend losses into the new month.Even as investors cheered Grayscale's court win over the Securities and Exchange Commission—which many see as helping to pave the way for a spot bitcoin ETF—bitcoin couldn't eke out a gain in August. Grayscale sued the SEC in 2022 after the agency rejected its application to turn its bitcoin trust into an ETF. Analysts speculate that the ruling out of the District of Columbia Court of Appeals could mean the SEC will ultimately approve the numerous applications for spot bitcoin ETFs currently in limbo. \n",
      "Advertisement\n",
      "\n",
      "\n",
      "Advertisement\n",
      "\n",
      "Bitcoin hasn't been able to find solid footing this summer after soaring about 80% in the first half of the year. Still, even with July and August's losses, the token has gained more the 54% year-to-date. It wasn't just bitcoin feeling the pain of the August sell-off. Other tokens, including ether, solana, and dogecoin all slumped, with each of the tokens sliding further Friday. The end-of-week dip comes after the SEC announced late Thursday that it would delay deciding on all of its spot bitcoin ETF applications until October. Applicants included BlackRock, WisdomTree, Invesco Galaxy, and other firms.Still, with bitcoin's halving event set to happen in April 2024, many executives and strategists remain bullish in their long-term outlook. Joe Kelly, the cofounder of financial services firm Unchained, said the token could breach the six-figure mark a year after halving. \"Taking a conservative view, if bitcoin stays around $30K until the halving, even a 12-month post-halving increase of 250% — which, again, is conservative relative to previous halvings — would price bitcoin at $105K,\" Kelly wrote in an August note.\n",
      "\n"
     ]
    }
   ],
   "source": [
    "url = \"https://markets.businessinsider.com/news/currencies/bitcoin-price-crypto-token-august-stocks-bonds-equities-markets-investors-2023-9\"\n",
    "\n",
    "response = requests.get(url)\n",
    "soup = BeautifulSoup(response.content, 'html.parser')\n",
    "\n",
    "content_lock_content = soup.select_one('.content-lock-content')\n",
    "\n",
    "if content_lock_content:\n",
    "    print(content_lock_content.text)\n",
    "else:\n",
    "    print(\"No content found for the given selector.\")"
   ]
  },
  {
   "cell_type": "code",
   "execution_count": 29,
   "metadata": {},
   "outputs": [
    {
     "data": {
      "text/plain": [
       "'\\n\\nBitcoin finished August about 10% lower, its second consecutive losing month.\\xa0\\nCrypto was caught up in a tough sell-off that hit stocks and bonds throughout the month.\\xa0\\nBitcoin extended losses into September, down more than 2.5% on Friday to trade at $25,660.\\xa0\\n\\n\\n\\n\\n\\n\\n\\n\\n\\n\\n\\n \\nNEW LOOK\\n\\n\\n                                    Sign up to get the inside scoop on today’s biggest stories in markets, tech, and business — delivered daily. Read preview\\n\\n\\n\\n\\n\\n\\n\\n\\n \\n\\n\\nLoading\\nSomething is loading.\\n\\n\\n\\n\\n\\n\\n\\n\\n\\n\\n\\n\\n\\nThanks for signing up!\\n\\n\\n                              Access your favorite topics in a personalized feed while you\\'re on the go.\\n                              \\n                                download the app\\n                               \\n\\n\\n\\n\\n\\nEmail address\\n\\n\\n\\n\\n\\n                                      Sign up\\n                                     \\n\\n\\n\\n                                  By clicking “Sign Up”, you accept our Terms of Service and Privacy Policy. You can opt-out at any time.\\n                              \\n\\n\\n\\n\\n\\n\\n\\n\\n \\n\\n\\nAdvertisement\\n\\n\\nAdvertisement\\n\\nBitcoin just capped off its second-straight losing month, shedding more than 10% over the last four weeks.\\xa0The decline happened alongside a sell-off in stocks and bonds, and on Friday the world\\'s largest cryptocurrency traded around $25,800, lower by more than 2.5% to extend losses into the new month.Even as investors cheered Grayscale\\'s court win over the Securities and Exchange Commission—which many see as helping to pave the way for a spot bitcoin ETF—bitcoin couldn\\'t eke out a gain in August.\\xa0Grayscale sued the SEC in 2022 after the agency rejected its application to turn its bitcoin trust into an ETF. Analysts speculate that the ruling out of the District of Columbia Court of Appeals could mean the SEC will ultimately approve the numerous applications for spot bitcoin ETFs currently in limbo.\\xa0\\nAdvertisement\\n\\n\\nAdvertisement\\n\\nBitcoin hasn\\'t been able to find solid footing this summer after soaring about 80% in the first half of the year. Still, even with July and August\\'s losses, the token has gained more the 54% year-to-date.\\xa0It wasn\\'t just bitcoin feeling the pain of the August sell-off. Other tokens, including ether, solana, and dogecoin all slumped, with each of the tokens sliding further Friday. The end-of-week dip comes after the SEC announced late Thursday that it would delay deciding on all of its spot bitcoin ETF applications until October. Applicants included BlackRock, WisdomTree, Invesco Galaxy, and other firms.Still, with bitcoin\\'s halving event set to happen in April 2024, many executives and strategists remain bullish in their long-term outlook. Joe Kelly, the cofounder of financial services firm Unchained, said the token could breach the six-figure mark a year after halving.\\xa0\"Taking a conservative view, if bitcoin stays around $30K until the halving, even a 12-month post-halving increase of 250% — which, again, is conservative relative to previous halvings — would price bitcoin at $105K,\" Kelly wrote in an August note.\\n'"
      ]
     },
     "execution_count": 29,
     "metadata": {},
     "output_type": "execute_result"
    }
   ],
   "source": [
    "content_lock_content.text"
   ]
  }
 ],
 "metadata": {
  "kernelspec": {
   "display_name": "commons",
   "language": "python",
   "name": "python3"
  },
  "language_info": {
   "codemirror_mode": {
    "name": "ipython",
    "version": 3
   },
   "file_extension": ".py",
   "mimetype": "text/x-python",
   "name": "python",
   "nbconvert_exporter": "python",
   "pygments_lexer": "ipython3",
   "version": "3.8.5"
  },
  "orig_nbformat": 4
 },
 "nbformat": 4,
 "nbformat_minor": 2
}
