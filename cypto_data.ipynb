{
 "cells": [
  {
   "cell_type": "code",
   "execution_count": 2,
   "metadata": {},
   "outputs": [
    {
     "name": "stdout",
     "output_type": "stream",
     "text": [
      "Collecting ccxt\n",
      "  Downloading ccxt-4.0.66-py2.py3-none-any.whl (3.8 MB)\n",
      "     ---------------------------------------- 3.8/3.8 MB 20.5 MB/s eta 0:00:00\n",
      "Requirement already satisfied: setuptools>=60.9.0 in c:\\users\\boyu571\\anaconda3\\envs\\commons\\lib\\site-packages (from ccxt) (66.0.0)\n",
      "Requirement already satisfied: certifi>=2018.1.18 in c:\\users\\boyu571\\anaconda3\\envs\\commons\\lib\\site-packages (from ccxt) (2023.7.22)\n",
      "Requirement already satisfied: requests>=2.18.4 in c:\\users\\boyu571\\anaconda3\\envs\\commons\\lib\\site-packages (from ccxt) (2.29.0)\n",
      "Requirement already satisfied: cryptography>=2.6.1 in c:\\users\\boyu571\\anaconda3\\envs\\commons\\lib\\site-packages (from ccxt) (39.0.1)\n",
      "Requirement already satisfied: aiohttp>=3.8 in c:\\users\\boyu571\\anaconda3\\envs\\commons\\lib\\site-packages (from ccxt) (3.8.5)\n",
      "Collecting aiodns>=1.1.1\n",
      "  Downloading aiodns-3.0.0-py3-none-any.whl (5.0 kB)\n",
      "Requirement already satisfied: yarl>=1.7.2 in c:\\users\\boyu571\\anaconda3\\envs\\commons\\lib\\site-packages (from ccxt) (1.9.2)\n",
      "Collecting pycares>=4.0.0\n",
      "  Downloading pycares-4.3.0-cp311-cp311-win_amd64.whl (76 kB)\n",
      "     ---------------------------------------- 76.3/76.3 kB ? eta 0:00:00\n",
      "Requirement already satisfied: attrs>=17.3.0 in c:\\users\\boyu571\\anaconda3\\envs\\commons\\lib\\site-packages (from aiohttp>=3.8->ccxt) (23.1.0)\n",
      "Requirement already satisfied: charset-normalizer<4.0,>=2.0 in c:\\users\\boyu571\\anaconda3\\envs\\commons\\lib\\site-packages (from aiohttp>=3.8->ccxt) (3.2.0)\n",
      "Requirement already satisfied: multidict<7.0,>=4.5 in c:\\users\\boyu571\\anaconda3\\envs\\commons\\lib\\site-packages (from aiohttp>=3.8->ccxt) (6.0.4)\n",
      "Requirement already satisfied: async-timeout<5.0,>=4.0.0a3 in c:\\users\\boyu571\\anaconda3\\envs\\commons\\lib\\site-packages (from aiohttp>=3.8->ccxt) (4.0.2)\n",
      "Requirement already satisfied: frozenlist>=1.1.1 in c:\\users\\boyu571\\anaconda3\\envs\\commons\\lib\\site-packages (from aiohttp>=3.8->ccxt) (1.4.0)\n",
      "Requirement already satisfied: aiosignal>=1.1.2 in c:\\users\\boyu571\\anaconda3\\envs\\commons\\lib\\site-packages (from aiohttp>=3.8->ccxt) (1.3.1)\n",
      "Requirement already satisfied: cffi>=1.12 in c:\\users\\boyu571\\anaconda3\\envs\\commons\\lib\\site-packages (from cryptography>=2.6.1->ccxt) (1.15.1)\n",
      "Requirement already satisfied: idna<4,>=2.5 in c:\\users\\boyu571\\anaconda3\\envs\\commons\\lib\\site-packages (from requests>=2.18.4->ccxt) (3.4)\n",
      "Requirement already satisfied: urllib3<1.27,>=1.21.1 in c:\\users\\boyu571\\anaconda3\\envs\\commons\\lib\\site-packages (from requests>=2.18.4->ccxt) (1.26.16)\n",
      "Requirement already satisfied: pycparser in c:\\users\\boyu571\\anaconda3\\envs\\commons\\lib\\site-packages (from cffi>=1.12->cryptography>=2.6.1->ccxt) (2.21)\n",
      "Installing collected packages: pycares, aiodns, ccxt\n",
      "Successfully installed aiodns-3.0.0 ccxt-4.0.66 pycares-4.3.0\n",
      "Note: you may need to restart the kernel to use updated packages.\n"
     ]
    }
   ],
   "source": [
    "pip install ccxt"
   ]
  },
  {
   "cell_type": "code",
   "execution_count": 3,
   "metadata": {},
   "outputs": [],
   "source": [
    "import ccxt\n",
    "import pandas as pd"
   ]
  },
  {
   "cell_type": "code",
   "execution_count": 4,
   "metadata": {},
   "outputs": [
    {
     "name": "stdout",
     "output_type": "stream",
     "text": [
      "     timestamp      open      high       low     close         volume\n",
      "0   2020-01-01   7195.24   7255.00   7175.15   7200.85   16792.388165\n",
      "1   2020-01-02   7200.77   7212.50   6924.74   6965.71   31951.483932\n",
      "2   2020-01-03   6965.49   7405.00   6871.04   7344.96   68428.500451\n",
      "3   2020-01-04   7345.00   7404.00   7272.21   7354.11   29987.974977\n",
      "4   2020-01-05   7354.19   7495.00   7318.00   7358.75   38331.085604\n",
      "..         ...       ...       ...       ...       ...            ...\n",
      "495 2021-05-10  58240.83  59500.00  53400.00  55816.14   89586.349250\n",
      "496 2021-05-11  55816.14  56862.43  54370.00  56670.02   64329.540550\n",
      "497 2021-05-12  56670.02  58000.01  48600.00  49631.32   99842.789836\n",
      "498 2021-05-13  49537.15  51367.19  46000.00  49670.97  147332.002121\n",
      "499 2021-05-14  49671.92  51483.00  48799.75  49841.45   80082.204306\n",
      "\n",
      "[500 rows x 6 columns]\n"
     ]
    }
   ],
   "source": [
    "\n",
    "# Binance 거래소 객체 생성\n",
    "exchange = ccxt.binance()\n",
    "\n",
    "# 비트코인/USDT의 과거 데이터를 일별로 가져옵니다.\n",
    "symbol = 'BTC/USDT'\n",
    "timeframe = '1d'  # 1일 데이터\n",
    "since = exchange.parse8601('2020-01-01T00:00:00Z')  # 2020년 1월 1일부터 데이터를 가져옵니다.\n",
    "\n",
    "ohlcv = exchange.fetch_ohlcv(symbol, timeframe, since)\n",
    "\n",
    "# 데이터를 판다스 데이터프레임으로 변환합니다.\n",
    "df = pd.DataFrame(ohlcv, columns=['timestamp', 'open', 'high', 'low', 'close', 'volume'])\n",
    "df['timestamp'] = pd.to_datetime(df['timestamp'], unit='ms')\n",
    "\n",
    "print(df)"
   ]
  },
  {
   "cell_type": "code",
   "execution_count": null,
   "metadata": {},
   "outputs": [],
   "source": []
  }
 ],
 "metadata": {
  "kernelspec": {
   "display_name": "commons",
   "language": "python",
   "name": "python3"
  },
  "language_info": {
   "codemirror_mode": {
    "name": "ipython",
    "version": 3
   },
   "file_extension": ".py",
   "mimetype": "text/x-python",
   "name": "python",
   "nbconvert_exporter": "python",
   "pygments_lexer": "ipython3",
   "version": "3.11.3"
  },
  "orig_nbformat": 4
 },
 "nbformat": 4,
 "nbformat_minor": 2
}
