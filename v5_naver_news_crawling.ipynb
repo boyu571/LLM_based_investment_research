{
 "cells": [
  {
   "cell_type": "code",
   "execution_count": 77,
   "metadata": {},
   "outputs": [],
   "source": [
    "import requests\n",
    "from bs4 import BeautifulSoup\n",
    "import time\n",
    "import re\n",
    "import pandas as pd\n",
    "from tqdm import tqdm\n",
    "\n",
    "headers = {\"User-Agent\": \"Mozilla/5.0 (Windows NT 10.0; Win64; x64) Chrome/98.0.4758.102\"}"
   ]
  },
  {
   "cell_type": "code",
   "execution_count": 78,
   "metadata": {},
   "outputs": [],
   "source": [
    "def makeUrl(search, start_date, end_date, start_pg=1, end_pg=2):\n",
    "    date_part = \"&pd=3&ds=\" + start_date + \"&de=\" + end_date\n",
    "    return [\"https://search.naver.com/search.naver?where=news&sm=tab_pge&query=\" + search + date_part + \"&sort=2&start=\" + str((i - 1) * 10 + 1) for i in range(start_pg, end_pg + 1)]"
   ]
  },
  {
   "cell_type": "code",
   "execution_count": 79,
   "metadata": {},
   "outputs": [],
   "source": [
    "def get_naver_articles(urls):\n",
    "    articles, titles, dates, press = [], [], [], []\n",
    "    \n",
    "    for url in urls:\n",
    "        html = requests.get(url, headers=headers)\n",
    "        soup = BeautifulSoup(html.text, \"html.parser\")\n",
    "\n",
    "        article_links = [link.attrs['href'] for link in soup.select(\"div.group_news > ul.list_news > li div.news_area > div.news_info > div.info_group > a.info\")]\n",
    "        article_titles = [title.text for title in soup.select(\".news_tit\")]\n",
    "        article_infos = [info.text for info in soup.select(\".info\")]\n",
    "\n",
    "        new_urls = []\n",
    "        idx = 0\n",
    "\n",
    "        while idx < len(article_links) - 1:\n",
    "            if 'news.naver.com' in article_links[idx]:\n",
    "                new_urls.append(article_links[idx])\n",
    "                idx += 1\n",
    "            elif 'news.naver.com' in article_links[idx + 1]:\n",
    "                new_urls.append(article_links[idx + 1])\n",
    "                idx += 2\n",
    "            else:\n",
    "                new_urls.append(article_links[idx])\n",
    "                idx += 1\n",
    "\n",
    "        # 마지막 요소 처리\n",
    "        if idx == len(article_links) - 1 and 'news.naver.com' not in new_urls[-1]:\n",
    "            new_urls.append(article_links[idx])\n",
    "\n",
    "        date_pattern = re.compile(r\"\\d{4}\\.\\d{2}\\.\\d{2}\")\n",
    "\n",
    "        current_dates = []\n",
    "        current_press = []\n",
    "\n",
    "        for idx, info in enumerate(article_infos):\n",
    "            match = date_pattern.search(info)\n",
    "            if match:\n",
    "                current_dates.append(match.group(0))\n",
    "                \n",
    "                if idx > 0:  # 인덱스 0 앞에는 데이터가 없으므로 idx > 0 조건 추가\n",
    "                    current_press.append(article_infos[idx - 1])\n",
    "\n",
    "        articles.extend(new_urls)\n",
    "        titles.extend(article_titles)\n",
    "        dates.extend(current_dates)\n",
    "        press.extend(current_press)\n",
    "\n",
    "        time.sleep(1)\n",
    "        \n",
    "    return articles, titles, dates, press"
   ]
  },
  {
   "cell_type": "code",
   "execution_count": 80,
   "metadata": {},
   "outputs": [],
   "source": [
    "def get_article_contents(article_urls):\n",
    "    contents = []\n",
    "    article_time = []  # 이름 변경\n",
    "    for url in tqdm(article_urls):\n",
    "        news = requests.get(url, headers=headers)\n",
    "        soup = BeautifulSoup(news.text, \"html.parser\")\n",
    "        \n",
    "        content = soup.select(\"#dic_area\") or soup.select(\"#articeBody\")\n",
    "        cleaned_content = re.sub('<[^>]*>', '', ''.join(str(item) for item in content)).replace(\"flash 오류를 우회하기 위한 함수 추가function _flash_removeCallback() {}\", '')\n",
    "        contents.append(cleaned_content)\n",
    "        \n",
    "        try:\n",
    "            date = soup.select_one(\"div#ct> div.media_end_head.go_trans > div.media_end_head_info.nv_notrans > div.media_end_head_info_datestamp > div > span\").attrs['data-date-time']\n",
    "        except AttributeError:\n",
    "            date = re.sub('<[^>]*>', '', str(soup.select_one(\"#content > div.end_ct > div > div.article_info > span > em\")))\n",
    "        article_time.append(date)  # 이름 변경\n",
    "    \n",
    "    return contents, article_time  # 이름 변경\n"
   ]
  },
  {
   "cell_type": "code",
   "execution_count": 82,
   "metadata": {},
   "outputs": [
    {
     "name": "stderr",
     "output_type": "stream",
     "text": [
      "100%|██████████| 20/20 [00:11<00:00,  1.72it/s]"
     ]
    },
    {
     "name": "stdout",
     "output_type": "stream",
     "text": [
      "          date    press                                               link  \\\n",
      "0   2017.01.01     전자신문  https://n.news.naver.com/mnews/article/030/000...   \n",
      "1   2017.01.01   39면 1단  https://n.news.naver.com/mnews/article/030/000...   \n",
      "2   2017.01.01   울산매일신문                              http://www.iusm.co.kr   \n",
      "3   2017.01.02   4면 TOP  https://n.news.naver.com/mnews/article/029/000...   \n",
      "4   2017.01.03     이데일리  https://n.news.naver.com/mnews/article/018/000...   \n",
      "5   2017.01.03   지디넷코리아  https://n.news.naver.com/mnews/article/092/000...   \n",
      "6   2017.01.03     IT조선                              http://it.chosun.com/   \n",
      "7   2017.01.03   아이뉴스24  https://n.news.naver.com/mnews/article/031/000...   \n",
      "8   2017.01.03     국방일보                        http://kookbang.dema.mil.kr   \n",
      "9   2017.01.03   A2면 1단  https://n.news.naver.com/mnews/article/015/000...   \n",
      "10  2017.01.04    오마이뉴스  https://n.news.naver.com/mnews/article/047/000...   \n",
      "11  2017.01.05     이데일리  https://n.news.naver.com/mnews/article/018/000...   \n",
      "12  2017.01.05    프라임경제                         http://www.newsprime.co.kr   \n",
      "13  2017.01.05     케이벤치                             http://www.kbench.com/   \n",
      "14  2017.01.05  16면 TOP  https://n.news.naver.com/mnews/article/029/000...   \n",
      "15  2017.01.06     시사저널                          http://www.sisapress.com/   \n",
      "16  2017.01.06   디지털데일리  https://n.news.naver.com/mnews/article/138/000...   \n",
      "17  2017.01.06     이데일리  https://n.news.naver.com/mnews/article/018/000...   \n",
      "18  2017.01.07     노컷뉴스  https://n.news.naver.com/mnews/article/079/000...   \n",
      "\n",
      "                                              title  \\\n",
      "0                           [2017 국제 핫이슈]블록체인 기술 확산   \n",
      "1                       [신년기획]블록체인, 금융권 넘어 IT기업도 관심   \n",
      "2   [2017 신년특집] 세계 금융의 대변화-화폐없는 시대가 온다 디지털 가상화폐 ...   \n",
      "3                 블록체인 등 최신 핀테크 기술 도입… `금융 한류` 일으키자   \n",
      "4                         비트코인, 3년만에 처음으로 1000달러 돌파   \n",
      "5                       '암호화 화폐' 비트코인, 3년만에 1천달러 돌파   \n",
      "6                  비즈니스로 진화한 사이버 범죄, ‘한국형 랜섬웨어’ 현실로   \n",
      "7                             KISA, 암호기술팀·블록체인TF 신설   \n",
      "8                 교황청의 문장.잉글랜드 국기 모두 전쟁에서 만들어진 ‘심벌’   \n",
      "9                                   비트코인 1000달러 넘었다   \n",
      "10                          김기춘 위기에 빠트린 사건 세 가지의 결말   \n",
      "11                        비트코인 사상최고가…中 자본통제에 `풍선효과`   \n",
      "12                         비트코인 사상 최고치 경신…관련주 '오름세'   \n",
      "13             국내 비트코인 역대 최고가 갱신…1비트코인 당 '140만원' 돌파   \n",
      "14                    돈 대신 인질 요구하는 랜섬웨어, 범행방식 바뀐 이유   \n",
      "15                      시작은 ‘최초’지만 나중은 ‘최고’ 되는 기술벤처   \n",
      "16               [2017년 신년기획] 강해진 랜섬웨어, ‘인질극’은 계속된다   \n",
      "17                 비트코인 큰손은 중국?… 반나절새 위안화↗비트코인↘ 배후설   \n",
      "18                   '아직도 보험청구서 작성하세요?'…블록체인 기술로 OK   \n",
      "\n",
      "                                              content                 time  \n",
      "0   \\n\\t\\t\\t블록체인은 `제2의 인터넷` `넥스트 인터넷`으로 불린다. 새해에는 ...  2017-01-01 12:03:13  \n",
      "1   \\n\\t\\t\\t“블록체인은 인터넷 이후 나온 가장 혁신적이며 파괴적인 기술이다.”블...  2017-01-01 16:03:04  \n",
      "2                                                                     None  \n",
      "3   \\n올 세계 은행 80% '블록체인' 도입 전망금융회사 거래 비용 약 30% 절감 ...  2017-01-02 17:04:01  \n",
      "4   \\n\\t\\t\\t[이데일리 김경민 기자] 디지털 화폐인 비트코인 가격이 3년 만에 처...  2017-01-03 07:28:03  \n",
      "5   \\n\\t\\t\\t(지디넷코리아=손경호 기자)전 세계에서 가장 많이 쓰이고 있는 암호화...  2017-01-03 10:49:02  \n",
      "6                                                                     None  \n",
      "7   \\n\\t\\t\\t&lt;아이뉴스24&gt;[아이뉴스24 성지은기자] 한국인터넷진흥원(...  2017-01-03 16:48:03  \n",
      "8                                                                     None  \n",
      "9   \\n2013년 11월 이후 최고\"중국 위안화 약세 때문\"[ 뉴욕=이심기 기자  ] ...  2017-01-03 18:33:58  \n",
      "10  \\n[김당의 나까프 ⑥] '신(新) 김기춘뎐' (3) : '법꾸라지'는 법망을 어떻...  2017-01-04 11:10:02  \n",
      "11  \\n\\t\\t\\t[이데일리 김경민 기자] 디지털 화폐인 비트코인 가격이 3년여 만에 ...  2017-01-05 09:43:03  \n",
      "12                                                                    None  \n",
      "13                                                                    None  \n",
      "14  \\n금품 요구서 수법 갈수록 다양피해 대신할 인질 2명 지목 땐피해자에 복호화 키 ...  2017-01-05 17:06:09  \n",
      "15                                                                    None  \n",
      "16  \\n\\n\\n\\n\\n\\n\\n[2017년 기획/불확실성에 대응하라  보안②][디지털데일...  2017-01-06 14:09:27  \n",
      "17  \\n\\t\\t\\t[이데일리 김형욱 기자] 비트코인이 6일 새벽(아시아 시간 기준) 반...  2017-01-06 15:26:02  \n",
      "18  \\n스타트업 '인슈레스'…블록체인 플랫폼으로 '보험금 자동지급' [CBS노컷뉴스 정...  2017-01-07 05:01:03  \n"
     ]
    },
    {
     "name": "stderr",
     "output_type": "stream",
     "text": [
      "\n"
     ]
    }
   ],
   "source": [
    "def main():\n",
    "    search = input(\"검색할 키워드를 입력해주세요:\")\n",
    "    start_date = input(\"\\n크롤링할 시작 날짜를 입력해주세요. ex)2022.01.01:\")\n",
    "    end_date = input(\"\\n크롤링할 종료 날짜를 입력해주세요. ex)2022.12.31:\")\n",
    "\n",
    "    urls = makeUrl(search, start_date, end_date)\n",
    "    article_urls, article_titles, article_dates, article_press = get_naver_articles(urls)\n",
    "    \n",
    "    contents, article_time = get_article_contents(article_urls)  # 이름 변경\n",
    "    \n",
    "    df = pd.DataFrame({'date': article_dates, 'time': article_time, 'title': article_titles, 'content': contents,'press': article_press, 'link': article_urls })  # 이름 변경\n",
    "    df.drop_duplicates(keep='first', inplace=True, ignore_index=True)\n",
    "    return df\n",
    "\n",
    "if __name__ == \"__main__\":\n",
    "    result_df = main()\n",
    "    print(result_df)"
   ]
  },
  {
   "cell_type": "code",
   "execution_count": 84,
   "metadata": {},
   "outputs": [],
   "source": [
    "#데이터 프레임 저장\n",
    "filename = '{}_{}_{}.csv'.format(search, start_date.replace(\".\", \"\"), end_date.replace(\".\", \"\"))\n",
    "result_df.to_csv(filename, encoding='utf-8-sig', index=False)"
   ]
  },
  {
   "cell_type": "code",
   "execution_count": 75,
   "metadata": {},
   "outputs": [
    {
     "name": "stderr",
     "output_type": "stream",
     "text": [
      "  0%|          | 0/20 [00:00<?, ?it/s]"
     ]
    },
    {
     "name": "stdout",
     "output_type": "stream",
     "text": [
      "Length of article_urls: 20\n",
      "Length of article_titles: 20\n",
      "Length of article_dates: 20\n",
      "Length of article_press: 20\n"
     ]
    },
    {
     "name": "stderr",
     "output_type": "stream",
     "text": [
      "100%|██████████| 20/20 [00:12<00:00,  1.58it/s]"
     ]
    },
    {
     "name": "stdout",
     "output_type": "stream",
     "text": [
      "                                              title       dates    press  \\\n",
      "0                           [2017 국제 핫이슈]블록체인 기술 확산  2017.01.01     전자신문   \n",
      "1                       [신년기획]블록체인, 금융권 넘어 IT기업도 관심  2017.01.01   39면 1단   \n",
      "2   [2017 신년특집] 세계 금융의 대변화-화폐없는 시대가 온다 디지털 가상화폐 ...  2017.01.01   울산매일신문   \n",
      "3                 블록체인 등 최신 핀테크 기술 도입… `금융 한류` 일으키자  2017.01.02   4면 TOP   \n",
      "4                         비트코인, 3년만에 처음으로 1000달러 돌파  2017.01.03     이데일리   \n",
      "5                       '암호화 화폐' 비트코인, 3년만에 1천달러 돌파  2017.01.03   지디넷코리아   \n",
      "6                  비즈니스로 진화한 사이버 범죄, ‘한국형 랜섬웨어’ 현실로  2017.01.03     IT조선   \n",
      "7                             KISA, 암호기술팀·블록체인TF 신설  2017.01.03   아이뉴스24   \n",
      "8                 교황청의 문장.잉글랜드 국기 모두 전쟁에서 만들어진 ‘심벌’  2017.01.03     국방일보   \n",
      "9                                   비트코인 1000달러 넘었다  2017.01.03   A2면 1단   \n",
      "10                          김기춘 위기에 빠트린 사건 세 가지의 결말  2017.01.04    오마이뉴스   \n",
      "11                        비트코인 사상최고가…中 자본통제에 `풍선효과`  2017.01.05     이데일리   \n",
      "12                         비트코인 사상 최고치 경신…관련주 '오름세'  2017.01.05    프라임경제   \n",
      "13             국내 비트코인 역대 최고가 갱신…1비트코인 당 '140만원' 돌파  2017.01.05     케이벤치   \n",
      "14                    돈 대신 인질 요구하는 랜섬웨어, 범행방식 바뀐 이유  2017.01.05  16면 TOP   \n",
      "15                      시작은 ‘최초’지만 나중은 ‘최고’ 되는 기술벤처  2017.01.06     시사저널   \n",
      "16               [2017년 신년기획] 강해진 랜섬웨어, ‘인질극’은 계속된다  2017.01.06   디지털데일리   \n",
      "17                 비트코인 큰손은 중국?… 반나절새 위안화↗비트코인↘ 배후설  2017.01.06     이데일리   \n",
      "18                   '아직도 보험청구서 작성하세요?'…블록체인 기술로 OK  2017.01.07     노컷뉴스   \n",
      "\n",
      "                                                 link  \\\n",
      "0   https://n.news.naver.com/mnews/article/030/000...   \n",
      "1   https://n.news.naver.com/mnews/article/030/000...   \n",
      "2                               http://www.iusm.co.kr   \n",
      "3   https://n.news.naver.com/mnews/article/029/000...   \n",
      "4   https://n.news.naver.com/mnews/article/018/000...   \n",
      "5   https://n.news.naver.com/mnews/article/092/000...   \n",
      "6                               http://it.chosun.com/   \n",
      "7   https://n.news.naver.com/mnews/article/031/000...   \n",
      "8                         http://kookbang.dema.mil.kr   \n",
      "9   https://n.news.naver.com/mnews/article/015/000...   \n",
      "10  https://n.news.naver.com/mnews/article/047/000...   \n",
      "11  https://n.news.naver.com/mnews/article/018/000...   \n",
      "12                         http://www.newsprime.co.kr   \n",
      "13                             http://www.kbench.com/   \n",
      "14  https://n.news.naver.com/mnews/article/029/000...   \n",
      "15                          http://www.sisapress.com/   \n",
      "16  https://n.news.naver.com/mnews/article/138/000...   \n",
      "17  https://n.news.naver.com/mnews/article/018/000...   \n",
      "18  https://n.news.naver.com/mnews/article/079/000...   \n",
      "\n",
      "                                              content                 time  \n",
      "0   \\n\\t\\t\\t블록체인은 `제2의 인터넷` `넥스트 인터넷`으로 불린다. 새해에는 ...  2017-01-01 12:03:13  \n",
      "1   \\n\\t\\t\\t“블록체인은 인터넷 이후 나온 가장 혁신적이며 파괴적인 기술이다.”블...  2017-01-01 16:03:04  \n",
      "2                                                                     None  \n",
      "3   \\n올 세계 은행 80% '블록체인' 도입 전망금융회사 거래 비용 약 30% 절감 ...  2017-01-02 17:04:01  \n",
      "4   \\n\\t\\t\\t[이데일리 김경민 기자] 디지털 화폐인 비트코인 가격이 3년 만에 처...  2017-01-03 07:28:03  \n",
      "5   \\n\\t\\t\\t(지디넷코리아=손경호 기자)전 세계에서 가장 많이 쓰이고 있는 암호화...  2017-01-03 10:49:02  \n",
      "6                                                                     None  \n",
      "7   \\n\\t\\t\\t&lt;아이뉴스24&gt;[아이뉴스24 성지은기자] 한국인터넷진흥원(...  2017-01-03 16:48:03  \n",
      "8                                                                     None  \n",
      "9   \\n2013년 11월 이후 최고\"중국 위안화 약세 때문\"[ 뉴욕=이심기 기자  ] ...  2017-01-03 18:33:58  \n",
      "10  \\n[김당의 나까프 ⑥] '신(新) 김기춘뎐' (3) : '법꾸라지'는 법망을 어떻...  2017-01-04 11:10:02  \n",
      "11  \\n\\t\\t\\t[이데일리 김경민 기자] 디지털 화폐인 비트코인 가격이 3년여 만에 ...  2017-01-05 09:43:03  \n",
      "12                                                                    None  \n",
      "13                                                                    None  \n",
      "14  \\n금품 요구서 수법 갈수록 다양피해 대신할 인질 2명 지목 땐피해자에 복호화 키 ...  2017-01-05 17:06:09  \n",
      "15                                                                    None  \n",
      "16  \\n\\n\\n\\n\\n\\n\\n[2017년 기획/불확실성에 대응하라  보안②][디지털데일...  2017-01-06 14:09:27  \n",
      "17  \\n\\t\\t\\t[이데일리 김형욱 기자] 비트코인이 6일 새벽(아시아 시간 기준) 반...  2017-01-06 15:26:02  \n",
      "18  \\n스타트업 '인슈레스'…블록체인 플랫폼으로 '보험금 자동지급' [CBS노컷뉴스 정...  2017-01-07 05:01:03  \n"
     ]
    },
    {
     "name": "stderr",
     "output_type": "stream",
     "text": [
      "\n"
     ]
    }
   ],
   "source": [
    "search = input(\"검색할 키워드를 입력해주세요:\")\n",
    "start_date = input(\"\\n크롤링할 시작 날짜를 입력해주세요. ex)2022.01.01:\")\n",
    "end_date = input(\"\\n크롤링할 종료 날짜를 입력해주세요. ex)2022.12.31:\")\n",
    "\n",
    "urls = makeUrl(search, start_date, end_date)\n",
    "article_urls, article_titles, article_dates, article_press = get_naver_articles(urls)\n",
    "\n",
    "# 여기서 각 리스트의 길이를 확인합니다.\n",
    "print(\"Length of article_urls:\", len(article_urls))\n",
    "print(\"Length of article_titles:\", len(article_titles))\n",
    "print(\"Length of article_dates:\", len(article_dates))\n",
    "print(\"Length of article_press:\", len(article_press))\n",
    "\n",
    "\n",
    "contents, article_time = get_article_contents(article_urls)  # 이름 변경\n",
    "\n",
    "# 길이가 동일한지 확인\n",
    "if len(article_titles) == len(article_dates)== len(article_press) == len(article_urls) == len(contents):\n",
    "    df = pd.DataFrame({'title': article_titles, 'dates': article_dates,'press': article_press, 'link': article_urls, 'content': contents, 'time' : article_time})\n",
    "    df.drop_duplicates(keep='first', inplace=True, ignore_index=True)\n",
    "    print(df)\n",
    "else:\n",
    "    print(\"The lengths of the lists are not equal. Dataframe cannot be created.\")\n"
   ]
  }
 ],
 "metadata": {
  "kernelspec": {
   "display_name": "base",
   "language": "python",
   "name": "python3"
  },
  "language_info": {
   "codemirror_mode": {
    "name": "ipython",
    "version": 3
   },
   "file_extension": ".py",
   "mimetype": "text/x-python",
   "name": "python",
   "nbconvert_exporter": "python",
   "pygments_lexer": "ipython3",
   "version": "3.8.5"
  },
  "orig_nbformat": 4
 },
 "nbformat": 4,
 "nbformat_minor": 2
}
