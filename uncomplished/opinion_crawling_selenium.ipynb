{
 "cells": [
  {
   "cell_type": "code",
   "execution_count": 1,
   "metadata": {},
   "outputs": [],
   "source": [
    "from selenium import webdriver\n",
    "from selenium.webdriver.chrome.service import Service\n",
    "from webdriver_manager.chrome import ChromeDriverManager\n",
    "from selenium.webdriver.common.by import By\n",
    "import pandas as pd\n",
    "import time"
   ]
  },
  {
   "cell_type": "code",
   "execution_count": 6,
   "metadata": {},
   "outputs": [],
   "source": [
    "def NS_users_crawler_selenium(codes, page_start, page_end):\n",
    "    # Setup ChromeDriver\n",
    "    s=Service(ChromeDriverManager().install())\n",
    "    driver = webdriver.Chrome(service=s)\n",
    "\n",
    "    result_df = pd.DataFrame([])\n",
    "\n",
    "    for page in range(page_start, page_end+1):\n",
    "        url = \"https://finance.naver.com/item/board.naver?code=%s&page=%s\" % (codes, str(page))\n",
    "        driver.get(url)\n",
    "\n",
    "        # give some time for all JavaScript scripts to load\n",
    "        time.sleep(2)\n",
    "\n",
    "        tb = driver.find_elements(By.CSS_SELECTOR, 'table.type2 tbody > tr')\n",
    "\n",
    "        for i in range(2, len(tb)):\n",
    "            if len(tb[i].find_elements(By.CSS_SELECTOR, 'td > span')) > 0:\n",
    "                date = tb[i].find_element(By.CSS_SELECTOR, 'td > span').text\n",
    "                title = tb[i].find_element(By.CSS_SELECTOR, 'td.title > a').get_attribute('title')\n",
    "                views = tb[i].find_element(By.CSS_SELECTOR, 'td:nth-child(4) > span').text\n",
    "                pos = tb[i].find_element(By.CSS_SELECTOR, 'td:nth-child(5) > strong').text\n",
    "                neg = tb[i].find_element(By.CSS_SELECTOR, 'td:nth-child(6) > strong').text\n",
    "                table = pd.DataFrame({'날짜': [date], '제목': [title], '조회': [views], '공감': [pos], '비공감': [neg]})\n",
    "                result_df = result_df.append(table)\n",
    "                \n",
    "        if (page % 10 == 0):\n",
    "            print('================== Page ' + str(page) + ' is done ==================')\n",
    "            # find the \"next\" button and click it\n",
    "            next_button = driver.find_element(By.CSS_SELECTOR, 'td.pgR > a')\n",
    "            next_button.click()\n",
    "\n",
    "            # give some time for all JavaScript scripts to load\n",
    "            time.sleep(2)\n",
    "\n",
    "\n",
    "    # make sure we quit the browser to avoid any resource leaks\n",
    "    driver.quit()\n",
    "\n",
    "    return result_df\n"
   ]
  },
  {
   "cell_type": "code",
   "execution_count": 8,
   "metadata": {},
   "outputs": [
    {
     "name": "stderr",
     "output_type": "stream",
     "text": [
      "C:\\Users\\boyu571\\AppData\\Local\\Temp\\ipykernel_10084\\956833794.py:25: FutureWarning: The frame.append method is deprecated and will be removed from pandas in a future version. Use pandas.concat instead.\n",
      "  result_df = result_df.append(table)\n",
      "C:\\Users\\boyu571\\AppData\\Local\\Temp\\ipykernel_10084\\956833794.py:25: FutureWarning: The frame.append method is deprecated and will be removed from pandas in a future version. Use pandas.concat instead.\n",
      "  result_df = result_df.append(table)\n",
      "C:\\Users\\boyu571\\AppData\\Local\\Temp\\ipykernel_10084\\956833794.py:25: FutureWarning: The frame.append method is deprecated and will be removed from pandas in a future version. Use pandas.concat instead.\n",
      "  result_df = result_df.append(table)\n",
      "C:\\Users\\boyu571\\AppData\\Local\\Temp\\ipykernel_10084\\956833794.py:25: FutureWarning: The frame.append method is deprecated and will be removed from pandas in a future version. Use pandas.concat instead.\n",
      "  result_df = result_df.append(table)\n",
      "C:\\Users\\boyu571\\AppData\\Local\\Temp\\ipykernel_10084\\956833794.py:25: FutureWarning: The frame.append method is deprecated and will be removed from pandas in a future version. Use pandas.concat instead.\n",
      "  result_df = result_df.append(table)\n",
      "C:\\Users\\boyu571\\AppData\\Local\\Temp\\ipykernel_10084\\956833794.py:25: FutureWarning: The frame.append method is deprecated and will be removed from pandas in a future version. Use pandas.concat instead.\n",
      "  result_df = result_df.append(table)\n",
      "C:\\Users\\boyu571\\AppData\\Local\\Temp\\ipykernel_10084\\956833794.py:25: FutureWarning: The frame.append method is deprecated and will be removed from pandas in a future version. Use pandas.concat instead.\n",
      "  result_df = result_df.append(table)\n",
      "C:\\Users\\boyu571\\AppData\\Local\\Temp\\ipykernel_10084\\956833794.py:25: FutureWarning: The frame.append method is deprecated and will be removed from pandas in a future version. Use pandas.concat instead.\n",
      "  result_df = result_df.append(table)\n",
      "C:\\Users\\boyu571\\AppData\\Local\\Temp\\ipykernel_10084\\956833794.py:25: FutureWarning: The frame.append method is deprecated and will be removed from pandas in a future version. Use pandas.concat instead.\n",
      "  result_df = result_df.append(table)\n",
      "C:\\Users\\boyu571\\AppData\\Local\\Temp\\ipykernel_10084\\956833794.py:25: FutureWarning: The frame.append method is deprecated and will be removed from pandas in a future version. Use pandas.concat instead.\n",
      "  result_df = result_df.append(table)\n",
      "C:\\Users\\boyu571\\AppData\\Local\\Temp\\ipykernel_10084\\956833794.py:25: FutureWarning: The frame.append method is deprecated and will be removed from pandas in a future version. Use pandas.concat instead.\n",
      "  result_df = result_df.append(table)\n",
      "C:\\Users\\boyu571\\AppData\\Local\\Temp\\ipykernel_10084\\956833794.py:25: FutureWarning: The frame.append method is deprecated and will be removed from pandas in a future version. Use pandas.concat instead.\n",
      "  result_df = result_df.append(table)\n",
      "C:\\Users\\boyu571\\AppData\\Local\\Temp\\ipykernel_10084\\956833794.py:25: FutureWarning: The frame.append method is deprecated and will be removed from pandas in a future version. Use pandas.concat instead.\n",
      "  result_df = result_df.append(table)\n",
      "C:\\Users\\boyu571\\AppData\\Local\\Temp\\ipykernel_10084\\956833794.py:25: FutureWarning: The frame.append method is deprecated and will be removed from pandas in a future version. Use pandas.concat instead.\n",
      "  result_df = result_df.append(table)\n",
      "C:\\Users\\boyu571\\AppData\\Local\\Temp\\ipykernel_10084\\956833794.py:25: FutureWarning: The frame.append method is deprecated and will be removed from pandas in a future version. Use pandas.concat instead.\n",
      "  result_df = result_df.append(table)\n",
      "C:\\Users\\boyu571\\AppData\\Local\\Temp\\ipykernel_10084\\956833794.py:25: FutureWarning: The frame.append method is deprecated and will be removed from pandas in a future version. Use pandas.concat instead.\n",
      "  result_df = result_df.append(table)\n",
      "C:\\Users\\boyu571\\AppData\\Local\\Temp\\ipykernel_10084\\956833794.py:25: FutureWarning: The frame.append method is deprecated and will be removed from pandas in a future version. Use pandas.concat instead.\n",
      "  result_df = result_df.append(table)\n",
      "C:\\Users\\boyu571\\AppData\\Local\\Temp\\ipykernel_10084\\956833794.py:25: FutureWarning: The frame.append method is deprecated and will be removed from pandas in a future version. Use pandas.concat instead.\n",
      "  result_df = result_df.append(table)\n",
      "C:\\Users\\boyu571\\AppData\\Local\\Temp\\ipykernel_10084\\956833794.py:25: FutureWarning: The frame.append method is deprecated and will be removed from pandas in a future version. Use pandas.concat instead.\n",
      "  result_df = result_df.append(table)\n",
      "C:\\Users\\boyu571\\AppData\\Local\\Temp\\ipykernel_10084\\956833794.py:25: FutureWarning: The frame.append method is deprecated and will be removed from pandas in a future version. Use pandas.concat instead.\n",
      "  result_df = result_df.append(table)\n"
     ]
    },
    {
     "name": "stdout",
     "output_type": "stream",
     "text": [
      "================== Page 100 is done ==================\n"
     ]
    },
    {
     "ename": "UnexpectedAlertPresentException",
     "evalue": "Alert Text: 잘못된 접근입니다.\nMessage: unexpected alert open: {Alert text : 잘못된 접근입니다.}\n  (Session info: chrome=115.0.5790.110)\nStacktrace:\nBacktrace:\n\tGetHandleVerifier [0x00821C53+49427]\n\t(No symbol) [0x007B5F41]\n\t(No symbol) [0x006BC64D]\n\t(No symbol) [0x007173FD]\n\t(No symbol) [0x00704816]\n\t(No symbol) [0x006E1127]\n\t(No symbol) [0x006E22AD]\n\tGetHandleVerifier [0x00A77149+2496009]\n\tGetHandleVerifier [0x00ABD572+2783794]\n\tGetHandleVerifier [0x00AB7491+2758993]\n\tGetHandleVerifier [0x008A11D0+571024]\n\t(No symbol) [0x007BF96A]\n\t(No symbol) [0x007BBD88]\n\t(No symbol) [0x007BBE6B]\n\t(No symbol) [0x007AEA97]\n\tBaseThreadInitThunk [0x768A7D59+25]\n\tRtlInitializeExceptionChain [0x77C3B79B+107]\n\tRtlClearBits [0x77C3B71F+191]\n",
     "output_type": "error",
     "traceback": [
      "\u001b[1;31m---------------------------------------------------------------------------\u001b[0m",
      "\u001b[1;31mUnexpectedAlertPresentException\u001b[0m           Traceback (most recent call last)",
      "Cell \u001b[1;32mIn[8], line 1\u001b[0m\n\u001b[1;32m----> 1\u001b[0m NS_users_crawler_selenium(\u001b[39m\"\u001b[39;49m\u001b[39m102460\u001b[39;49m\u001b[39m\"\u001b[39;49m, \u001b[39m100\u001b[39;49m, \u001b[39m103\u001b[39;49m)\n",
      "Cell \u001b[1;32mIn[6], line 15\u001b[0m, in \u001b[0;36mNS_users_crawler_selenium\u001b[1;34m(codes, page_start, page_end)\u001b[0m\n\u001b[0;32m     12\u001b[0m \u001b[39m# give some time for all JavaScript scripts to load\u001b[39;00m\n\u001b[0;32m     13\u001b[0m time\u001b[39m.\u001b[39msleep(\u001b[39m2\u001b[39m)\n\u001b[1;32m---> 15\u001b[0m tb \u001b[39m=\u001b[39m driver\u001b[39m.\u001b[39;49mfind_elements(By\u001b[39m.\u001b[39;49mCSS_SELECTOR, \u001b[39m'\u001b[39;49m\u001b[39mtable.type2 tbody > tr\u001b[39;49m\u001b[39m'\u001b[39;49m)\n\u001b[0;32m     17\u001b[0m \u001b[39mfor\u001b[39;00m i \u001b[39min\u001b[39;00m \u001b[39mrange\u001b[39m(\u001b[39m2\u001b[39m, \u001b[39mlen\u001b[39m(tb)):\n\u001b[0;32m     18\u001b[0m     \u001b[39mif\u001b[39;00m \u001b[39mlen\u001b[39m(tb[i]\u001b[39m.\u001b[39mfind_elements(By\u001b[39m.\u001b[39mCSS_SELECTOR, \u001b[39m'\u001b[39m\u001b[39mtd > span\u001b[39m\u001b[39m'\u001b[39m)) \u001b[39m>\u001b[39m \u001b[39m0\u001b[39m:\n",
      "File \u001b[1;32mc:\\Users\\boyu571\\anaconda3\\envs\\commons\\Lib\\site-packages\\selenium\\webdriver\\remote\\webdriver.py:769\u001b[0m, in \u001b[0;36mWebDriver.find_elements\u001b[1;34m(self, by, value)\u001b[0m\n\u001b[0;32m    765\u001b[0m     value \u001b[39m=\u001b[39m \u001b[39mf\u001b[39m\u001b[39m'\u001b[39m\u001b[39m[name=\u001b[39m\u001b[39m\"\u001b[39m\u001b[39m{\u001b[39;00mvalue\u001b[39m}\u001b[39;00m\u001b[39m\"\u001b[39m\u001b[39m]\u001b[39m\u001b[39m'\u001b[39m\n\u001b[0;32m    767\u001b[0m \u001b[39m# Return empty list if driver returns null\u001b[39;00m\n\u001b[0;32m    768\u001b[0m \u001b[39m# See https://github.com/SeleniumHQ/selenium/issues/4555\u001b[39;00m\n\u001b[1;32m--> 769\u001b[0m \u001b[39mreturn\u001b[39;00m \u001b[39mself\u001b[39;49m\u001b[39m.\u001b[39;49mexecute(Command\u001b[39m.\u001b[39;49mFIND_ELEMENTS, {\u001b[39m\"\u001b[39;49m\u001b[39musing\u001b[39;49m\u001b[39m\"\u001b[39;49m: by, \u001b[39m\"\u001b[39;49m\u001b[39mvalue\u001b[39;49m\u001b[39m\"\u001b[39;49m: value})[\u001b[39m\"\u001b[39m\u001b[39mvalue\u001b[39m\u001b[39m\"\u001b[39m] \u001b[39mor\u001b[39;00m []\n",
      "File \u001b[1;32mc:\\Users\\boyu571\\anaconda3\\envs\\commons\\Lib\\site-packages\\selenium\\webdriver\\remote\\webdriver.py:345\u001b[0m, in \u001b[0;36mWebDriver.execute\u001b[1;34m(self, driver_command, params)\u001b[0m\n\u001b[0;32m    343\u001b[0m response \u001b[39m=\u001b[39m \u001b[39mself\u001b[39m\u001b[39m.\u001b[39mcommand_executor\u001b[39m.\u001b[39mexecute(driver_command, params)\n\u001b[0;32m    344\u001b[0m \u001b[39mif\u001b[39;00m response:\n\u001b[1;32m--> 345\u001b[0m     \u001b[39mself\u001b[39;49m\u001b[39m.\u001b[39;49merror_handler\u001b[39m.\u001b[39;49mcheck_response(response)\n\u001b[0;32m    346\u001b[0m     response[\u001b[39m\"\u001b[39m\u001b[39mvalue\u001b[39m\u001b[39m\"\u001b[39m] \u001b[39m=\u001b[39m \u001b[39mself\u001b[39m\u001b[39m.\u001b[39m_unwrap_value(response\u001b[39m.\u001b[39mget(\u001b[39m\"\u001b[39m\u001b[39mvalue\u001b[39m\u001b[39m\"\u001b[39m, \u001b[39mNone\u001b[39;00m))\n\u001b[0;32m    347\u001b[0m     \u001b[39mreturn\u001b[39;00m response\n",
      "File \u001b[1;32mc:\\Users\\boyu571\\anaconda3\\envs\\commons\\Lib\\site-packages\\selenium\\webdriver\\remote\\errorhandler.py:228\u001b[0m, in \u001b[0;36mErrorHandler.check_response\u001b[1;34m(self, response)\u001b[0m\n\u001b[0;32m    226\u001b[0m     \u001b[39melif\u001b[39;00m \u001b[39m\"\u001b[39m\u001b[39malert\u001b[39m\u001b[39m\"\u001b[39m \u001b[39min\u001b[39;00m value:\n\u001b[0;32m    227\u001b[0m         alert_text \u001b[39m=\u001b[39m value[\u001b[39m\"\u001b[39m\u001b[39malert\u001b[39m\u001b[39m\"\u001b[39m]\u001b[39m.\u001b[39mget(\u001b[39m\"\u001b[39m\u001b[39mtext\u001b[39m\u001b[39m\"\u001b[39m)\n\u001b[1;32m--> 228\u001b[0m     \u001b[39mraise\u001b[39;00m exception_class(message, screen, stacktrace, alert_text)  \u001b[39m# type: ignore[call-arg]  # mypy is not smart enough here\u001b[39;00m\n\u001b[0;32m    229\u001b[0m \u001b[39mraise\u001b[39;00m exception_class(message, screen, stacktrace)\n",
      "\u001b[1;31mUnexpectedAlertPresentException\u001b[0m: Alert Text: 잘못된 접근입니다.\nMessage: unexpected alert open: {Alert text : 잘못된 접근입니다.}\n  (Session info: chrome=115.0.5790.110)\nStacktrace:\nBacktrace:\n\tGetHandleVerifier [0x00821C53+49427]\n\t(No symbol) [0x007B5F41]\n\t(No symbol) [0x006BC64D]\n\t(No symbol) [0x007173FD]\n\t(No symbol) [0x00704816]\n\t(No symbol) [0x006E1127]\n\t(No symbol) [0x006E22AD]\n\tGetHandleVerifier [0x00A77149+2496009]\n\tGetHandleVerifier [0x00ABD572+2783794]\n\tGetHandleVerifier [0x00AB7491+2758993]\n\tGetHandleVerifier [0x008A11D0+571024]\n\t(No symbol) [0x007BF96A]\n\t(No symbol) [0x007BBD88]\n\t(No symbol) [0x007BBE6B]\n\t(No symbol) [0x007AEA97]\n\tBaseThreadInitThunk [0x768A7D59+25]\n\tRtlInitializeExceptionChain [0x77C3B79B+107]\n\tRtlClearBits [0x77C3B71F+191]\n"
     ]
    }
   ],
   "source": [
    "NS_users_crawler_selenium(\"102460\", 100, 103)"
   ]
  }
 ],
 "metadata": {
  "kernelspec": {
   "display_name": "commons",
   "language": "python",
   "name": "python3"
  },
  "language_info": {
   "codemirror_mode": {
    "name": "ipython",
    "version": 3
   },
   "file_extension": ".py",
   "mimetype": "text/x-python",
   "name": "python",
   "nbconvert_exporter": "python",
   "pygments_lexer": "ipython3",
   "version": "3.11.3"
  },
  "orig_nbformat": 4
 },
 "nbformat": 4,
 "nbformat_minor": 2
}
