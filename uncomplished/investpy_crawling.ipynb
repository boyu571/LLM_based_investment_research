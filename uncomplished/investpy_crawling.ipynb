{
 "cells": [
  {
   "cell_type": "code",
   "execution_count": 8,
   "metadata": {},
   "outputs": [],
   "source": [
    "import investpy\n",
    "import pandas as pd"
   ]
  },
  {
   "cell_type": "code",
   "execution_count": 9,
   "metadata": {},
   "outputs": [
    {
     "data": {
      "text/plain": [
       "1037"
      ]
     },
     "execution_count": 9,
     "metadata": {},
     "output_type": "execute_result"
    }
   ],
   "source": [
    "# 모든 암호화폐의 목록을 가져옵니다.\n",
    "cryptos_list = investpy.crypto.get_cryptos_list()\n",
    "len(cryptos_list)"
   ]
  },
  {
   "cell_type": "code",
   "execution_count": 6,
   "metadata": {},
   "outputs": [
    {
     "data": {
      "text/plain": [
       "5"
      ]
     },
     "execution_count": 6,
     "metadata": {},
     "output_type": "execute_result"
    }
   ],
   "source": [
    "cryptos_list = cryptos_list[:5]\n",
    "len(cryptos_list)"
   ]
  },
  {
   "cell_type": "code",
   "execution_count": 7,
   "metadata": {},
   "outputs": [
    {
     "name": "stdout",
     "output_type": "stream",
     "text": [
      "Error fetching historical data for Bitcoin: ERR#0015: error 403, try again later.\n",
      "Error fetching historical data for Ethereum: ERR#0015: error 403, try again later.\n",
      "Error fetching historical data for Binance Coin: ERR#0015: error 403, try again later.\n",
      "Error fetching historical data for Tether: ERR#0015: error 403, try again later.\n",
      "Error fetching historical data for Cardano: ERR#0015: error 403, try again later.\n",
      "Data not available\n"
     ]
    }
   ],
   "source": [
    "# 각 암호화폐의 과거 데이터를 수집합니다.\n",
    "crypto_historical_data = {}\n",
    "for crypto_name in cryptos_list:\n",
    "    try:\n",
    "        # 최근 1년간의 데이터를 가져옵니다. 필요에 따라 날짜 범위를 변경할 수 있습니다.\n",
    "        historical_data = investpy.crypto.get_crypto_historical_data(crypto_name, \n",
    "                                                                      from_date='01/01/2022', \n",
    "                                                                      to_date='31/12/2022')\n",
    "        crypto_historical_data[crypto_name] = historical_data\n",
    "        time.sleep(10)  # 10초 간격으로 요청\n",
    "    except Exception as e:\n",
    "        print(f\"Error fetching historical data for {crypto_name}: {e}\")\n",
    "\n",
    "# 결과 출력 (예시: Bitcoin의 데이터)\n",
    "print(crypto_historical_data.get('Bitcoin', 'Data not available'))"
   ]
  },
  {
   "cell_type": "code",
   "execution_count": 5,
   "metadata": {},
   "outputs": [],
   "source": [
    "# 시작일과 종료일 설정\n",
    "start_date = '01/01/2020'\n",
    "end_date = '31/12/2020'\n"
   ]
  }
 ],
 "metadata": {
  "kernelspec": {
   "display_name": "commons",
   "language": "python",
   "name": "python3"
  },
  "language_info": {
   "codemirror_mode": {
    "name": "ipython",
    "version": 3
   },
   "file_extension": ".py",
   "mimetype": "text/x-python",
   "name": "python",
   "nbconvert_exporter": "python",
   "pygments_lexer": "ipython3",
   "version": "3.11.3"
  },
  "orig_nbformat": 4
 },
 "nbformat": 4,
 "nbformat_minor": 2
}
