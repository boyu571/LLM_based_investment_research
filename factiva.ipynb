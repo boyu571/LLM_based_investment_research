{
 "cells": [
  {
   "cell_type": "code",
   "execution_count": 13,
   "metadata": {},
   "outputs": [],
   "source": [
    "import requests\n",
    "from bs4 import BeautifulSoup\n",
    "import time\n",
    "import re\n",
    "import pandas as pd\n",
    "from tqdm import tqdm\n",
    "import random\n",
    "import os\n",
    "from selenium import webdriver\n",
    "from selenium.webdriver.common.by import By"
   ]
  },
  {
   "cell_type": "code",
   "execution_count": 2,
   "metadata": {},
   "outputs": [],
   "source": [
    "# 새로 업로드한 HTML 파일을 읽기\n",
    "with open('Factiva.com.html', 'r', encoding='utf-8') as file:\n",
    "    new_html_content = file.read()\n",
    "\n",
    "# HTML 내용을 파싱\n",
    "soup_new = BeautifulSoup(new_html_content, 'html.parser')"
   ]
  },
  {
   "cell_type": "code",
   "execution_count": 12,
   "metadata": {},
   "outputs": [
    {
     "data": {
      "text/plain": [
       "'Reuters News,   Wednesday,  06  September  2023,  01:19 GMT,  129 Words,  (English), Copyright 2023 Thomson Reuters. All Rights Reserved.(Document LBA0000020230905ej9503js1)'"
      ]
     },
     "execution_count": 12,
     "metadata": {},
     "output_type": "execute_result"
    }
   ],
   "source": [
    "# # <p> 태그를 사용해 기사 내용을 찾아보기\n",
    "# paragraphs = soup_new.find_all('p')\n",
    "\n",
    "# # 기사 내용이 포함될 것으로 예상되는 긴 <p> 태그들을 찾기\n",
    "# long_paragraphs = [p for p in paragraphs if len(p.get_text(strip=True)) > 50]\n",
    "\n",
    "# # 확인을 위해 첫 번째로 발견된 긴 <p> 태그의 내용 출력\n",
    "# long_paragraphs[0].get_text(strip=True) if long_paragraphs else \"No long paragraphs found\"\n"
   ]
  },
  {
   "cell_type": "code",
   "execution_count": 3,
   "metadata": {},
   "outputs": [
    {
     "ename": "NameError",
     "evalue": "name 'paragraphs' is not defined",
     "output_type": "error",
     "traceback": [
      "\u001b[1;31m---------------------------------------------------------------------------\u001b[0m",
      "\u001b[1;31mNameError\u001b[0m                                 Traceback (most recent call last)",
      "\u001b[1;32m<ipython-input-3-06014180dc40>\u001b[0m in \u001b[0;36m<module>\u001b[1;34m\u001b[0m\n\u001b[1;32m----> 1\u001b[1;33m \u001b[0mparagraphs\u001b[0m\u001b[1;33m\u001b[0m\u001b[1;33m\u001b[0m\u001b[0m\n\u001b[0m",
      "\u001b[1;31mNameError\u001b[0m: name 'paragraphs' is not defined"
     ]
    }
   ],
   "source": [
    "paragraphs"
   ]
  },
  {
   "cell_type": "code",
   "execution_count": 4,
   "metadata": {},
   "outputs": [
    {
     "ename": "NameError",
     "evalue": "name 'long_paragraphs' is not defined",
     "output_type": "error",
     "traceback": [
      "\u001b[1;31m---------------------------------------------------------------------------\u001b[0m",
      "\u001b[1;31mNameError\u001b[0m                                 Traceback (most recent call last)",
      "\u001b[1;32m<ipython-input-4-6efc8c048bcb>\u001b[0m in \u001b[0;36m<module>\u001b[1;34m\u001b[0m\n\u001b[0;32m      3\u001b[0m \u001b[0mcontents_new\u001b[0m \u001b[1;33m=\u001b[0m \u001b[1;33m[\u001b[0m\u001b[1;33m]\u001b[0m\u001b[1;33m\u001b[0m\u001b[1;33m\u001b[0m\u001b[0m\n\u001b[0;32m      4\u001b[0m \u001b[1;33m\u001b[0m\u001b[0m\n\u001b[1;32m----> 5\u001b[1;33m \u001b[1;32mfor\u001b[0m \u001b[0mp\u001b[0m \u001b[1;32min\u001b[0m \u001b[0mlong_paragraphs\u001b[0m\u001b[1;33m:\u001b[0m\u001b[1;33m\u001b[0m\u001b[1;33m\u001b[0m\u001b[0m\n\u001b[0m\u001b[0;32m      6\u001b[0m     \u001b[0mtext\u001b[0m \u001b[1;33m=\u001b[0m \u001b[0mp\u001b[0m\u001b[1;33m.\u001b[0m\u001b[0mget_text\u001b[0m\u001b[1;33m(\u001b[0m\u001b[0mstrip\u001b[0m\u001b[1;33m=\u001b[0m\u001b[1;32mTrue\u001b[0m\u001b[1;33m)\u001b[0m\u001b[1;33m\u001b[0m\u001b[1;33m\u001b[0m\u001b[0m\n\u001b[0;32m      7\u001b[0m \u001b[1;33m\u001b[0m\u001b[0m\n",
      "\u001b[1;31mNameError\u001b[0m: name 'long_paragraphs' is not defined"
     ]
    }
   ],
   "source": [
    "# 각 <p> 태그의 내용을 분석하여 기사의 제목과 내용 추출\n",
    "titles_new = []\n",
    "contents_new = []\n",
    "\n",
    "for p in long_paragraphs:\n",
    "    text = p.get_text(strip=True)\n",
    "    \n",
    "    # 기사의 제목과 내용을 분리하기 위한 간단한 방법: \n",
    "    # 첫 번째 문장을 제목으로 간주하고 나머지를 본문으로 간주\n",
    "    sentences = text.split('.')\n",
    "    titles_new.append(sentences[0])\n",
    "    contents_new.append(\".\".join(sentences[1:]))\n",
    "\n",
    "# 결과를 DataFrame 형식으로 변환\n",
    "df_new = pd.DataFrame({\n",
    "    'Title': titles_new,\n",
    "    'Content': contents_new\n",
    "})\n",
    "\n",
    "# DataFrame의 첫 5개 행을 출력하여 확인\n",
    "df_new.head()\n"
   ]
  },
  {
   "cell_type": "code",
   "execution_count": 5,
   "metadata": {},
   "outputs": [],
   "source": [
    "# Read the new text file content\n",
    "with open(\"Factiva-07September20231123.txt\", \"r\", encoding=\"ISO-8859-1\") as file:\n",
    "    new_txt_content = file.read()"
   ]
  },
  {
   "cell_type": "code",
   "execution_count": 6,
   "metadata": {},
   "outputs": [],
   "source": [
    "# Final code to split the articles based on the \"Document XXXX...\" pattern, keeping the delimiter at the end,\n",
    "# and then remove the \"Document XXXX...\" pattern from the start of each article\n",
    "\n",
    "# Split the content based on the \"Document XXXX...\" pattern, keeping the delimiter at the end\n",
    "articles_with_document_split = re.split(r'(Document \\w{8}\\d{8}\\w{7})', new_txt_content)\n",
    "\n",
    "# Adjust the split to form articles with the \"Document XXXX...\" pattern only at the end\n",
    "adjusted_articles_final = [articles_with_document_split[i+1] + articles_with_document_split[i] \n",
    "                          for i in range(0, len(articles_with_document_split)-1, 2)]\n",
    "\n",
    "# Convert the adjusted articles into a DataFrame\n",
    "df_adjusted_articles_final = pd.DataFrame(adjusted_articles_final, columns=[\"Article_Content\"])\n",
    "\n",
    "# Remove the \"Document XXXX...\" pattern from the start of each article\n",
    "df_adjusted_articles_final[\"Article_Content\"] = df_adjusted_articles_final[\"Article_Content\"].str.replace(r'^Document \\w{8}\\d{8}\\w{7}', '', regex=True)\n",
    "\n",
    "df_adjusted_articles_final[\"Article_Content\"] = df_adjusted_articles_final[\"Article_Content\"].str.replace(r'^.*?\\n+', '', regex=True)\n"
   ]
  },
  {
   "cell_type": "code",
   "execution_count": 12,
   "metadata": {},
   "outputs": [
    {
     "data": {
      "text/plain": [
       "'Business\\nDigital currencies: CBA to limit fund transfers in crypto scam crackdown\\n\\nDominic Powell \\n485 words\\n9 June 2023\\nThe Sydney Morning Herald\\nSMHH\\nFirst\\n26\\nEnglish\\n? 2023 Copyright John Fairfax Holdings Limited. www.smh.com.au\\n\\nCommonwealth Bank will limit customers from sending money to certain cryptocurrency exchanges and implement monthly limits on crypto purchases in an effort to crack down on scams and fraud.\\n\\nYesterday, the big four bank introduced a raft of new scam prevention methods, including bans or 24-hour holds on payments to certain crypto exchanges, becoming the second major bank to do so after Westpac took similar action last month.\\n\\nCBA would not identify the exchanges that would be limited under the new system. However, it\\'s likely Binance - one of the world\\'s largest and most popular cryptocurrency exchanges - will be included.\\n\\nThis week, US regulators took action against Binance and Coinbase, another major exchange, accusing them of violating US securities regulations by operating as unregistered exchanges.\\n\\nIt\\'s the second time Binance has been targeted by US regulators this year, with the US Commodity Futures Trading Commission in March accusing the business of multiple \"wilful\" breaches of US trading law.\\n\\nBinance has also been cut off from its local payments provider Cuscal, with users unable to deposit funds onto the platform.\\n\\nJames Roberts, CBA\\'s general manager of group fraud management services, said the action from US regulators wasn\\'t behind yesterday\\'s decision, saying instead the company felt it \"had to act\" on the rising levels of crypto scams targeting its customers.\\n\\n\"There\\'s a disproportionate number of scams where the proceeds are flowing out through cryptocurrency exchanges,\" Roberts said. \"When money goes to those exchanges, we\\'re finding it almost impossible to recover funds from those entities.\\n\\n\"It\\'s not something we\\'ve taken lightly, as we do appreciate not everyone will be comfortable with the decision, but we have to put our customers\\' protection first.\"\\n\\nRoberts says the bank sees a \"very high percentage\" of fraudulent outflows to crypto exchanges - far beyond what it sees to bank accounts - which he says was the catalyst to act.\\n\\n\"We have to act, we can\\'t stand by and watch it go any further,\" he said.\\n\\nFurther measures set to be rolled out in the coming weeks by CBA include a $10,000 monthly limit for customers transacting with crypto exchanges, which Roberts said will still allow people to trade crypto while limiting the number of \"catastrophic\" scams.\\n\\nAustralia lacks meaningful cryptocurrency regulation, with the federal government in the process of designing new laws. It\\'s likely those deliberations will continue into next year.\\n\\nRoberts said CBA has been an advocate for better crypto regulation, noting the new restrictions could be eased off in the future if scam risks decrease. \"These restrictions are not permanent. Should the risk improve to the point where it\\'s at an acceptable level, that would be an inflection point for us to review these decisions to make sure we strike the right balance,\" he said.\\n\\n'"
      ]
     },
     "execution_count": 12,
     "metadata": {},
     "output_type": "execute_result"
    }
   ],
   "source": [
    "df_adjusted_articles_final['Article_Content'][0]"
   ]
  },
  {
   "cell_type": "code",
   "execution_count": 12,
   "metadata": {},
   "outputs": [
    {
     "data": {
      "text/html": [
       "<div>\n",
       "<style scoped>\n",
       "    .dataframe tbody tr th:only-of-type {\n",
       "        vertical-align: middle;\n",
       "    }\n",
       "\n",
       "    .dataframe tbody tr th {\n",
       "        vertical-align: top;\n",
       "    }\n",
       "\n",
       "    .dataframe thead th {\n",
       "        text-align: right;\n",
       "    }\n",
       "</style>\n",
       "<table border=\"1\" class=\"dataframe\">\n",
       "  <thead>\n",
       "    <tr style=\"text-align: right;\">\n",
       "      <th></th>\n",
       "      <th>Title</th>\n",
       "      <th>Content</th>\n",
       "      <th>Publication_Date</th>\n",
       "    </tr>\n",
       "  </thead>\n",
       "  <tbody>\n",
       "    <tr>\n",
       "      <th>0</th>\n",
       "      <td>Business</td>\n",
       "      <td>Digital currencies: CBA to limit fund transfer...</td>\n",
       "      <td>NaN</td>\n",
       "    </tr>\n",
       "    <tr>\n",
       "      <th>1</th>\n",
       "      <td>General News</td>\n",
       "      <td>Winter is here for exchanges\\n\\nLex comment \\n...</td>\n",
       "      <td>NaN</td>\n",
       "    </tr>\n",
       "    <tr>\n",
       "      <th>2</th>\n",
       "      <td>Business</td>\n",
       "      <td>CBA  s crypto block to hit scammers\\n\\n144 wor...</td>\n",
       "      <td>NaN</td>\n",
       "    </tr>\n",
       "    <tr>\n",
       "      <th>3</th>\n",
       "      <td>Business</td>\n",
       "      <td>Greatest innovation ever: AI to slash prices, ...</td>\n",
       "      <td>NaN</td>\n",
       "    </tr>\n",
       "    <tr>\n",
       "      <th>4</th>\n",
       "      <td>News</td>\n",
       "      <td>Banks put the brake on crypto\\n\\nBen Butler \\n...</td>\n",
       "      <td>NaN</td>\n",
       "    </tr>\n",
       "  </tbody>\n",
       "</table>\n",
       "</div>"
      ],
      "text/plain": [
       "          Title                                            Content  \\\n",
       "0      Business  Digital currencies: CBA to limit fund transfer...   \n",
       "1  General News  Winter is here for exchanges\\n\\nLex comment \\n...   \n",
       "2      Business  CBA  s crypto block to hit scammers\\n\\n144 wor...   \n",
       "3      Business  Greatest innovation ever: AI to slash prices, ...   \n",
       "4          News  Banks put the brake on crypto\\n\\nBen Butler \\n...   \n",
       "\n",
       "  Publication_Date  \n",
       "0              NaN  \n",
       "1              NaN  \n",
       "2              NaN  \n",
       "3              NaN  \n",
       "4              NaN  "
      ]
     },
     "execution_count": 12,
     "metadata": {},
     "output_type": "execute_result"
    }
   ],
   "source": [
    "# Extract title, content, and publication date from each article\n",
    "\n",
    "# Extract title (assuming title is the first line of the article)\n",
    "df_adjusted_articles_final['Title'] = df_adjusted_articles_final['Article_Content'].str.split('\\n').str[0]\n",
    "\n",
    "# Extract content (assuming content is everything after the title and before the last line which contains the Document pattern)\n",
    "df_adjusted_articles_final['Content'] = df_adjusted_articles_final['Article_Content'].apply(lambda x: '\\n'.join(x.split('\\n')[1:-1]))\n",
    "\n",
    "# Extract publication date from the \"Document XXXX...\" pattern\n",
    "df_adjusted_articles_final['Publication_Date'] = df_adjusted_articles_final['Article_Content'].str.extract(r'Document \\w{4}(\\d{8})\\w{7}')\n",
    "\n",
    "# Drop the original combined column\n",
    "df_extracted_data = df_adjusted_articles_final.drop(columns=[\"Article_Content\"])\n",
    "\n",
    "# Display the first few rows of the extracted DataFrame\n",
    "df_extracted_data.head()\n"
   ]
  },
  {
   "cell_type": "code",
   "execution_count": 32,
   "metadata": {},
   "outputs": [
    {
     "ename": "TypeError",
     "evalue": "__init__() got an unexpected keyword argument 'executable_path'",
     "output_type": "error",
     "traceback": [
      "\u001b[1;31m---------------------------------------------------------------------------\u001b[0m",
      "\u001b[1;31mTypeError\u001b[0m                                 Traceback (most recent call last)",
      "\u001b[1;32m<ipython-input-32-607d064a40ac>\u001b[0m in \u001b[0;36m<module>\u001b[1;34m\u001b[0m\n\u001b[0;32m      1\u001b[0m \u001b[1;31m# 웹 드라이버 초기화 (예: Chrome을 사용)\u001b[0m\u001b[1;33m\u001b[0m\u001b[1;33m\u001b[0m\u001b[1;33m\u001b[0m\u001b[0m\n\u001b[1;32m----> 2\u001b[1;33m \u001b[0mdriver\u001b[0m \u001b[1;33m=\u001b[0m \u001b[0mwebdriver\u001b[0m\u001b[1;33m.\u001b[0m\u001b[0mChrome\u001b[0m\u001b[1;33m(\u001b[0m\u001b[0mexecutable_path\u001b[0m\u001b[1;33m=\u001b[0m\u001b[1;34mr'C:\\Users\\user\\chromedriver\\chromedriver.exe'\u001b[0m\u001b[1;33m)\u001b[0m\u001b[1;33m\u001b[0m\u001b[1;33m\u001b[0m\u001b[0m\n\u001b[0m\u001b[0;32m      3\u001b[0m \u001b[1;33m\u001b[0m\u001b[0m\n\u001b[0;32m      4\u001b[0m \u001b[1;31m# 대상 웹사이트로 이동\u001b[0m\u001b[1;33m\u001b[0m\u001b[1;33m\u001b[0m\u001b[1;33m\u001b[0m\u001b[0m\n\u001b[0;32m      5\u001b[0m \u001b[0mdriver\u001b[0m\u001b[1;33m.\u001b[0m\u001b[0mget\u001b[0m\u001b[1;33m(\u001b[0m\u001b[1;34m\"https://snapshot.factiva.com/Search/SSResults\"\u001b[0m\u001b[1;33m)\u001b[0m\u001b[1;33m\u001b[0m\u001b[1;33m\u001b[0m\u001b[0m\n",
      "\u001b[1;31mTypeError\u001b[0m: __init__() got an unexpected keyword argument 'executable_path'"
     ]
    }
   ],
   "source": [
    "# 웹 드라이버 초기화 (예: Chrome을 사용)\n",
    "driver = webdriver.Chrome(executable_path=r'C:\\Users\\user\\chromedriver\\chromedriver.exe')\n",
    "\n",
    "# 대상 웹사이트로 이동\n",
    "driver.get(\"https://snapshot.factiva.com/Search/SSResults\")\n",
    "\n",
    "# 30번 반복\n",
    "for i in range(30):\n",
    "    # .article-view-trigger 클래스를 가진 a태그를 찾음\n",
    "    articles = driver.find_elements(By.CSS_SELECTOR, \".article-view-trigger\")\n",
    "    \n",
    "    # 첫 번째 항목 클릭\n",
    "    articles[0].click()\n",
    "    \n",
    "    # 페이지 로딩을 기다림 (필요에 따라 시간 조정 가능)\n",
    "    time.sleep(5)\n",
    "    \n",
    "    # 뒤로 가기\n",
    "    driver.back()\n",
    "    \n",
    "    # 페이지 로딩을 기다림 (필요에 따라 시간 조정 가능)\n",
    "    time.sleep(5)\n",
    "\n",
    "# 작업 완료 후 웹 드라이버 종료\n",
    "driver.quit()\n"
   ]
  }
 ],
 "metadata": {
  "kernelspec": {
   "display_name": "commons",
   "language": "python",
   "name": "python3"
  },
  "language_info": {
   "codemirror_mode": {
    "name": "ipython",
    "version": 3
   },
   "file_extension": ".py",
   "mimetype": "text/x-python",
   "name": "python",
   "nbconvert_exporter": "python",
   "pygments_lexer": "ipython3",
   "version": "3.8.5"
  },
  "orig_nbformat": 4
 },
 "nbformat": 4,
 "nbformat_minor": 2
}
