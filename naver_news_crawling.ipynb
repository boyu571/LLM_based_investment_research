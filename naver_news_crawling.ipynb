{
 "cells": [
  {
   "cell_type": "code",
   "execution_count": 1,
   "metadata": {},
   "outputs": [],
   "source": [
    "#크롤링시 필요한 라이브러리 불러오기\n",
    "from bs4 import BeautifulSoup\n",
    "import requests\n",
    "import re\n",
    "import datetime\n",
    "from tqdm import tqdm\n",
    "import sys\n",
    "import time"
   ]
  },
  {
   "cell_type": "code",
   "execution_count": 2,
   "metadata": {},
   "outputs": [],
   "source": [
    "# 페이지 url 형식에 맞게 바꾸어 주는 함수 만들기\n",
    "  #입력된 수를 1, 11, 21, 31 ...만들어 주는 함수\n",
    "def makePgNum(num):\n",
    "    if num == 1:\n",
    "        return num\n",
    "    elif num == 0:\n",
    "        return num+1\n",
    "    else:\n",
    "        return num+9*(num-1)\n"
   ]
  },
  {
   "cell_type": "code",
   "execution_count": 3,
   "metadata": {},
   "outputs": [],
   "source": [
    "\n",
    "# 크롤링할 url 생성하는 함수 만들기(검색어, 크롤링 시작 페이지, 크롤링 종료 페이지)\n",
    "\n",
    "def makeUrl(search, start_pg, end_pg):\n",
    "    if start_pg == end_pg:\n",
    "        start_page = makePgNum(start_pg)\n",
    "        url = \"https://search.naver.com/search.naver?where=news&sm=tab_pge&query=\" + search + \"&start=\" + str(start_page)\n",
    "        print(\"생성url: \", url)\n",
    "        return url\n",
    "    else:\n",
    "        urls = []\n",
    "        for i in range(start_pg, end_pg + 1):\n",
    "            page = makePgNum(i)\n",
    "            url = \"https://search.naver.com/search.naver?where=news&sm=tab_pge&query=\" + search + \"&start=\" + str(page)\n",
    "            urls.append(url)\n",
    "        print(\"생성url: \", urls)\n",
    "        return urls    \n",
    "    "
   ]
  },
  {
   "cell_type": "code",
   "execution_count": 4,
   "metadata": {},
   "outputs": [],
   "source": [
    "\n",
    "# html에서 원하는 속성 추출하는 함수 만들기 (기사, 추출하려는 속성값)\n",
    "def news_attrs_crawler(articles,attrs):\n",
    "    attrs_content=[]\n",
    "    for i in articles:\n",
    "        attrs_content.append(i.attrs[attrs])\n",
    "    return attrs_content\n",
    "\n",
    "# ConnectionError방지\n",
    "headers = {\"User-Agent\": \"Mozilla/5.0 (Windows NT 10.0; Win64; x64) Chrome/98.0.4758.102\"}\n",
    "\n",
    "#html생성해서 기사크롤링하는 함수 만들기(url): 링크를 반환\n",
    "def articles_crawler(url):\n",
    "    #html 불러오기\n",
    "    original_html = requests.get(i,headers=headers)\n",
    "    html = BeautifulSoup(original_html.text, \"html.parser\")\n",
    "\n",
    "    url_naver = html.select(\"div.group_news > ul.list_news > li div.news_area > div.news_info > div.info_group > a.info\")\n",
    "    url = news_attrs_crawler(url_naver,'href')\n",
    "    time.sleep(1)\n",
    "    return url\n"
   ]
  },
  {
   "cell_type": "code",
   "execution_count": 5,
   "metadata": {},
   "outputs": [
    {
     "name": "stdout",
     "output_type": "stream",
     "text": [
      "\n",
      "크롤링할 시작 페이지:  1 페이지\n",
      "\n",
      "크롤링할 종료 페이지:  100 페이지\n",
      "생성url:  ['https://search.naver.com/search.naver?where=news&sm=tab_pge&query=비트코인&start=1', 'https://search.naver.com/search.naver?where=news&sm=tab_pge&query=비트코인&start=11', 'https://search.naver.com/search.naver?where=news&sm=tab_pge&query=비트코인&start=21', 'https://search.naver.com/search.naver?where=news&sm=tab_pge&query=비트코인&start=31', 'https://search.naver.com/search.naver?where=news&sm=tab_pge&query=비트코인&start=41', 'https://search.naver.com/search.naver?where=news&sm=tab_pge&query=비트코인&start=51', 'https://search.naver.com/search.naver?where=news&sm=tab_pge&query=비트코인&start=61', 'https://search.naver.com/search.naver?where=news&sm=tab_pge&query=비트코인&start=71', 'https://search.naver.com/search.naver?where=news&sm=tab_pge&query=비트코인&start=81', 'https://search.naver.com/search.naver?where=news&sm=tab_pge&query=비트코인&start=91', 'https://search.naver.com/search.naver?where=news&sm=tab_pge&query=비트코인&start=101', 'https://search.naver.com/search.naver?where=news&sm=tab_pge&query=비트코인&start=111', 'https://search.naver.com/search.naver?where=news&sm=tab_pge&query=비트코인&start=121', 'https://search.naver.com/search.naver?where=news&sm=tab_pge&query=비트코인&start=131', 'https://search.naver.com/search.naver?where=news&sm=tab_pge&query=비트코인&start=141', 'https://search.naver.com/search.naver?where=news&sm=tab_pge&query=비트코인&start=151', 'https://search.naver.com/search.naver?where=news&sm=tab_pge&query=비트코인&start=161', 'https://search.naver.com/search.naver?where=news&sm=tab_pge&query=비트코인&start=171', 'https://search.naver.com/search.naver?where=news&sm=tab_pge&query=비트코인&start=181', 'https://search.naver.com/search.naver?where=news&sm=tab_pge&query=비트코인&start=191', 'https://search.naver.com/search.naver?where=news&sm=tab_pge&query=비트코인&start=201', 'https://search.naver.com/search.naver?where=news&sm=tab_pge&query=비트코인&start=211', 'https://search.naver.com/search.naver?where=news&sm=tab_pge&query=비트코인&start=221', 'https://search.naver.com/search.naver?where=news&sm=tab_pge&query=비트코인&start=231', 'https://search.naver.com/search.naver?where=news&sm=tab_pge&query=비트코인&start=241', 'https://search.naver.com/search.naver?where=news&sm=tab_pge&query=비트코인&start=251', 'https://search.naver.com/search.naver?where=news&sm=tab_pge&query=비트코인&start=261', 'https://search.naver.com/search.naver?where=news&sm=tab_pge&query=비트코인&start=271', 'https://search.naver.com/search.naver?where=news&sm=tab_pge&query=비트코인&start=281', 'https://search.naver.com/search.naver?where=news&sm=tab_pge&query=비트코인&start=291', 'https://search.naver.com/search.naver?where=news&sm=tab_pge&query=비트코인&start=301', 'https://search.naver.com/search.naver?where=news&sm=tab_pge&query=비트코인&start=311', 'https://search.naver.com/search.naver?where=news&sm=tab_pge&query=비트코인&start=321', 'https://search.naver.com/search.naver?where=news&sm=tab_pge&query=비트코인&start=331', 'https://search.naver.com/search.naver?where=news&sm=tab_pge&query=비트코인&start=341', 'https://search.naver.com/search.naver?where=news&sm=tab_pge&query=비트코인&start=351', 'https://search.naver.com/search.naver?where=news&sm=tab_pge&query=비트코인&start=361', 'https://search.naver.com/search.naver?where=news&sm=tab_pge&query=비트코인&start=371', 'https://search.naver.com/search.naver?where=news&sm=tab_pge&query=비트코인&start=381', 'https://search.naver.com/search.naver?where=news&sm=tab_pge&query=비트코인&start=391', 'https://search.naver.com/search.naver?where=news&sm=tab_pge&query=비트코인&start=401', 'https://search.naver.com/search.naver?where=news&sm=tab_pge&query=비트코인&start=411', 'https://search.naver.com/search.naver?where=news&sm=tab_pge&query=비트코인&start=421', 'https://search.naver.com/search.naver?where=news&sm=tab_pge&query=비트코인&start=431', 'https://search.naver.com/search.naver?where=news&sm=tab_pge&query=비트코인&start=441', 'https://search.naver.com/search.naver?where=news&sm=tab_pge&query=비트코인&start=451', 'https://search.naver.com/search.naver?where=news&sm=tab_pge&query=비트코인&start=461', 'https://search.naver.com/search.naver?where=news&sm=tab_pge&query=비트코인&start=471', 'https://search.naver.com/search.naver?where=news&sm=tab_pge&query=비트코인&start=481', 'https://search.naver.com/search.naver?where=news&sm=tab_pge&query=비트코인&start=491', 'https://search.naver.com/search.naver?where=news&sm=tab_pge&query=비트코인&start=501', 'https://search.naver.com/search.naver?where=news&sm=tab_pge&query=비트코인&start=511', 'https://search.naver.com/search.naver?where=news&sm=tab_pge&query=비트코인&start=521', 'https://search.naver.com/search.naver?where=news&sm=tab_pge&query=비트코인&start=531', 'https://search.naver.com/search.naver?where=news&sm=tab_pge&query=비트코인&start=541', 'https://search.naver.com/search.naver?where=news&sm=tab_pge&query=비트코인&start=551', 'https://search.naver.com/search.naver?where=news&sm=tab_pge&query=비트코인&start=561', 'https://search.naver.com/search.naver?where=news&sm=tab_pge&query=비트코인&start=571', 'https://search.naver.com/search.naver?where=news&sm=tab_pge&query=비트코인&start=581', 'https://search.naver.com/search.naver?where=news&sm=tab_pge&query=비트코인&start=591', 'https://search.naver.com/search.naver?where=news&sm=tab_pge&query=비트코인&start=601', 'https://search.naver.com/search.naver?where=news&sm=tab_pge&query=비트코인&start=611', 'https://search.naver.com/search.naver?where=news&sm=tab_pge&query=비트코인&start=621', 'https://search.naver.com/search.naver?where=news&sm=tab_pge&query=비트코인&start=631', 'https://search.naver.com/search.naver?where=news&sm=tab_pge&query=비트코인&start=641', 'https://search.naver.com/search.naver?where=news&sm=tab_pge&query=비트코인&start=651', 'https://search.naver.com/search.naver?where=news&sm=tab_pge&query=비트코인&start=661', 'https://search.naver.com/search.naver?where=news&sm=tab_pge&query=비트코인&start=671', 'https://search.naver.com/search.naver?where=news&sm=tab_pge&query=비트코인&start=681', 'https://search.naver.com/search.naver?where=news&sm=tab_pge&query=비트코인&start=691', 'https://search.naver.com/search.naver?where=news&sm=tab_pge&query=비트코인&start=701', 'https://search.naver.com/search.naver?where=news&sm=tab_pge&query=비트코인&start=711', 'https://search.naver.com/search.naver?where=news&sm=tab_pge&query=비트코인&start=721', 'https://search.naver.com/search.naver?where=news&sm=tab_pge&query=비트코인&start=731', 'https://search.naver.com/search.naver?where=news&sm=tab_pge&query=비트코인&start=741', 'https://search.naver.com/search.naver?where=news&sm=tab_pge&query=비트코인&start=751', 'https://search.naver.com/search.naver?where=news&sm=tab_pge&query=비트코인&start=761', 'https://search.naver.com/search.naver?where=news&sm=tab_pge&query=비트코인&start=771', 'https://search.naver.com/search.naver?where=news&sm=tab_pge&query=비트코인&start=781', 'https://search.naver.com/search.naver?where=news&sm=tab_pge&query=비트코인&start=791', 'https://search.naver.com/search.naver?where=news&sm=tab_pge&query=비트코인&start=801', 'https://search.naver.com/search.naver?where=news&sm=tab_pge&query=비트코인&start=811', 'https://search.naver.com/search.naver?where=news&sm=tab_pge&query=비트코인&start=821', 'https://search.naver.com/search.naver?where=news&sm=tab_pge&query=비트코인&start=831', 'https://search.naver.com/search.naver?where=news&sm=tab_pge&query=비트코인&start=841', 'https://search.naver.com/search.naver?where=news&sm=tab_pge&query=비트코인&start=851', 'https://search.naver.com/search.naver?where=news&sm=tab_pge&query=비트코인&start=861', 'https://search.naver.com/search.naver?where=news&sm=tab_pge&query=비트코인&start=871', 'https://search.naver.com/search.naver?where=news&sm=tab_pge&query=비트코인&start=881', 'https://search.naver.com/search.naver?where=news&sm=tab_pge&query=비트코인&start=891', 'https://search.naver.com/search.naver?where=news&sm=tab_pge&query=비트코인&start=901', 'https://search.naver.com/search.naver?where=news&sm=tab_pge&query=비트코인&start=911', 'https://search.naver.com/search.naver?where=news&sm=tab_pge&query=비트코인&start=921', 'https://search.naver.com/search.naver?where=news&sm=tab_pge&query=비트코인&start=931', 'https://search.naver.com/search.naver?where=news&sm=tab_pge&query=비트코인&start=941', 'https://search.naver.com/search.naver?where=news&sm=tab_pge&query=비트코인&start=951', 'https://search.naver.com/search.naver?where=news&sm=tab_pge&query=비트코인&start=961', 'https://search.naver.com/search.naver?where=news&sm=tab_pge&query=비트코인&start=971', 'https://search.naver.com/search.naver?where=news&sm=tab_pge&query=비트코인&start=981', 'https://search.naver.com/search.naver?where=news&sm=tab_pge&query=비트코인&start=991']\n"
     ]
    },
    {
     "name": "stderr",
     "output_type": "stream",
     "text": [
      "100%|██████████| 1375/1375 [22:57<00:00,  1.00s/it]\n"
     ]
    }
   ],
   "source": [
    "\n",
    "#####뉴스크롤링 시작#####\n",
    "\n",
    "#검색어 입력\n",
    "search = input(\"검색할 키워드를 입력해주세요:\")\n",
    "#검색 시작할 페이지 입력\n",
    "page = int(input(\"\\n크롤링할 시작 페이지를 입력해주세요. ex)1(숫자만입력):\")) # ex)1 =1페이지,2=2페이지...\n",
    "print(\"\\n크롤링할 시작 페이지: \",page,\"페이지\")   \n",
    "#검색 종료할 페이지 입력\n",
    "page2 = int(input(\"\\n크롤링할 종료 페이지를 입력해주세요. ex)1(숫자만입력):\")) # ex)1 =1페이지,2=2페이지...\n",
    "print(\"\\n크롤링할 종료 페이지: \",page2,\"페이지\")   \n",
    "\n",
    "\n",
    "# naver url 생성\n",
    "url = makeUrl(search,page,page2)\n",
    "\n",
    "#뉴스 크롤러 실행\n",
    "news_titles = []\n",
    "news_url =[]\n",
    "news_contents =[]\n",
    "news_dates = []\n",
    "for i in url:\n",
    "    url = articles_crawler(url)\n",
    "    news_url.append(url)\n",
    "\n",
    "\n",
    "#제목, 링크, 내용 1차원 리스트로 꺼내는 함수 생성\n",
    "def makeList(newlist, content):\n",
    "    for i in content:\n",
    "        for j in i:\n",
    "            newlist.append(j)\n",
    "    return newlist\n",
    "\n",
    "    \n",
    "#제목, 링크, 내용 담을 리스트 생성\n",
    "news_url_1 = []\n",
    "\n",
    "#1차원 리스트로 만들기(내용 제외)\n",
    "makeList(news_url_1,news_url)\n",
    "\n",
    "#NAVER 뉴스만 남기기\n",
    "final_urls = []\n",
    "for i in tqdm(range(len(news_url_1))):\n",
    "    time.sleep(1)  # 1초 대기. 필요에 따라 조절 가능.\n",
    "    if \"news.naver.com\" in news_url_1[i]:\n",
    "        final_urls.append(news_url_1[i])\n",
    "    else:\n",
    "        pass"
   ]
  },
  {
   "cell_type": "code",
   "execution_count": 6,
   "metadata": {},
   "outputs": [
    {
     "name": "stderr",
     "output_type": "stream",
     "text": [
      "100%|██████████| 22/22 [00:07<00:00,  3.03it/s]\n"
     ]
    },
    {
     "name": "stdout",
     "output_type": "stream",
     "text": [
      "검색된 기사 갯수: 총  10000 개\n",
      "\n",
      "[뉴스 제목]\n",
      "['청주시, 지방세 체납자 8500명 암호화폐 보유 추적', '코인베이스, 암호화폐업체 중 첫 선물거래 승인 받아', '대형 호재에도…지지부진 코인 시장, 왜? [코린이를 위한 암호화폐 설명서] (30)', '美연준, 은행 대상 암호화폐 업무감독 새 프로그램 마련', \"암호화폐 결제 준비?…페이팔 '스테이블 코인' 출시\", \"美 암호화폐 커스터디 업체 '프라임 트러스트', 챕터11 파산 신청\", \"檢, 100억 빼돌린 암호화폐 거래소 '비트소닉' 대표 구속기소\", \"美법원, '암호화폐는 증권' 판단…리플 판결과 배치\", '\"北라자루스, 암호화폐 기업 또 해킹해 470억원 탈취\"', '\"암호화폐로 공과금 내면 9% 환급\"…대행업체 대표에 15년 구형', \"'2200억 가상화폐 사기' QRC뱅크 대표 2심도 징역 10년\", \"크립토닷컴-엑솔라, 게임 생태계 암호화폐 결제 솔루션 '맞손'\", '\"암호화폐 100배 뛴다\" 도박누리집 판돈 빼돌린 30대 징역형', \"AI 암호화폐 수사 프로그램 '온클레브', 'Good-Service Award'\", \"'2200억원대 암호화폐 다단계 사기' 2심서 133억원 추징\", '세계 최대 ‘블랙다이아몬드’ 매입한 사업가… 암호자산 투자금 유용?', '“가상화폐는 증권?”…미국 법원 엇갈린 판결, 투자자 혼란', '가상화폐범죄 단속 이끈 한국계 검사, 美법무부 안보 부차관보로', '바이낸스, 中 고객 규제 우회 일조…900억달러 암호화폐 거래 포착', '암호화폐 거래소 주멕스(Zoomex), 2023 WSOT 대회 시작, 등록 마감 8월 17일까지', '넷마블 자회사 코인 MBX, 日암호자산시장 화이트리스트 등재', '\"북, 지난해 2조원어치 암호화폐 훔쳐…기록 깨는 수준\"']\n",
      "\n",
      "[뉴스 링크]\n",
      "['https://n.news.naver.com/mnews/article/421/0007001843?sid=102', 'https://n.news.naver.com/mnews/article/015/0004880615?sid=101', 'https://n.news.naver.com/mnews/article/024/0000083916?sid=101', 'https://n.news.naver.com/mnews/article/003/0012021791?sid=104', 'https://n.news.naver.com/mnews/article/015/0004877607?sid=101', 'https://n.news.naver.com/mnews/article/030/0003126228?sid=101', 'https://n.news.naver.com/mnews/article/014/0005054087?sid=102', 'https://n.news.naver.com/mnews/article/003/0012009801?sid=104', 'https://n.news.naver.com/mnews/article/001/0014101631?sid=100', 'https://n.news.naver.com/mnews/article/421/0006980360?sid=102', 'https://n.news.naver.com/mnews/article/014/0005051975?sid=102', 'https://n.news.naver.com/mnews/article/030/0003124366?sid=101', 'https://n.news.naver.com/mnews/article/003/0011990750?sid=102', 'https://n.news.naver.com/mnews/article/008/0004924506?sid=101', 'https://n.news.naver.com/mnews/article/421/0006969057?sid=102', 'https://n.news.naver.com/mnews/article/032/0003239826?sid=104', 'https://n.news.naver.com/mnews/article/018/0005543592?sid=101', 'https://n.news.naver.com/mnews/article/001/0014094511?sid=104', 'https://n.news.naver.com/mnews/article/277/0005295088?sid=104', 'https://n.news.naver.com/mnews/article/119/0002737812?sid=101', 'https://n.news.naver.com/mnews/article/001/0014093767?sid=105', 'https://n.news.naver.com/mnews/article/001/0014084113?sid=100']\n",
      "\n",
      "[뉴스 내용]\n",
      "['[]', '[]', '[]', '[]', '[]', '[]', '[]', '[]', '[]', '[]', '[]', '[]', '[]', '[]', '[]', '[]', '[]', '[]', '[]', '[]', '[]', '[]']\n",
      "news_title:  22\n",
      "news_url:  22\n",
      "news_contents:  22\n",
      "news_dates:  22\n",
      "중복 제거 후 행 개수:  22\n"
     ]
    }
   ],
   "source": [
    "\n",
    "# 뉴스 내용 크롤링\n",
    "\n",
    "for i in tqdm(final_urls):\n",
    "    #각 기사 html get하기\n",
    "    news = requests.get(i,headers=headers)\n",
    "    news_html = BeautifulSoup(news.text,\"html.parser\")\n",
    "\n",
    "    # 뉴스 제목 가져오기\n",
    "    title = news_html.select_one(\"#ct > div.media_end_head.go_trans > div.media_end_head_title > h2\")\n",
    "    if title == None:\n",
    "        title = news_html.select_one(\"#content > div.end_ct > div > h2\")\n",
    "    \n",
    "    # 뉴스 본문 가져오기\n",
    "    content = news_html.select(\"div#dic_area\")\n",
    "    if content == []:\n",
    "        content = news_html.select(\"#articeBody\")\n",
    "\n",
    "    # 기사 텍스트만 가져오기\n",
    "    # list합치기\n",
    "    content = ''.join(str(content))\n",
    "\n",
    "    # html태그제거 및 텍스트 다듬기\n",
    "    pattern1 = '<[^>]*>'\n",
    "    title = re.sub(pattern=pattern1, repl='', string=str(title))\n",
    "    content = re.sub(pattern=pattern1, repl='', string=content)\n",
    "    pattern2 = \"\"\"[\\n\\n\\n\\n\\n// flash 오류를 우회하기 위한 함수 추가\\nfunction _flash_removeCallback() {}\"\"\"\n",
    "    content = content.replace(pattern2, '')\n",
    "\n",
    "    news_titles.append(title)\n",
    "    news_contents.append(content)\n",
    "\n",
    "    try:\n",
    "        html_date = news_html.select_one(\"div#ct> div.media_end_head.go_trans > div.media_end_head_info.nv_notrans > div.media_end_head_info_datestamp > div > span\")\n",
    "        news_date = html_date.attrs['data-date-time']\n",
    "    except AttributeError:\n",
    "        news_date = news_html.select_one(\"#content > div.end_ct > div > div.article_info > span > em\")\n",
    "        news_date = re.sub(pattern=pattern1,repl='',string=str(news_date))\n",
    "    # 날짜 가져오기\n",
    "    news_dates.append(news_date)\n",
    "\n",
    "print(\"검색된 기사 갯수: 총 \",(page2+1-page)*10,'개')\n",
    "print(\"\\n[뉴스 제목]\")\n",
    "print(news_titles)\n",
    "print(\"\\n[뉴스 링크]\")\n",
    "print(final_urls)\n",
    "print(\"\\n[뉴스 내용]\")\n",
    "print(news_contents)\n",
    "\n",
    "print('news_title: ',len(news_titles))\n",
    "print('news_url: ',len(final_urls))\n",
    "print('news_contents: ',len(news_contents))\n",
    "print('news_dates: ',len(news_dates))\n",
    "\n",
    "###데이터 프레임으로 만들기##\n",
    "import pandas as pd\n",
    "\n",
    "#데이터 프레임 만들기\n",
    "news_df = pd.DataFrame({'date':news_dates,'title':news_titles,'link':final_urls,'content':news_contents})\n",
    "\n",
    "#중복 행 지우기\n",
    "news_df = news_df.drop_duplicates(keep='first',ignore_index=True)\n",
    "print(\"중복 제거 후 행 개수: \",len(news_df))"
   ]
  },
  {
   "cell_type": "code",
   "execution_count": 7,
   "metadata": {},
   "outputs": [],
   "source": [
    "\n",
    "#데이터 프레임 저장\n",
    "now = datetime.datetime.now() \n",
    "news_df.to_csv('{}_{}.csv'.format(search,now.strftime('%Y%m%d_%H시%M분%S초')),encoding='utf-8-sig',index=False)\n"
   ]
  },
  {
   "cell_type": "code",
   "execution_count": null,
   "metadata": {},
   "outputs": [],
   "source": []
  }
 ],
 "metadata": {
  "kernelspec": {
   "display_name": "commons",
   "language": "python",
   "name": "python3"
  },
  "language_info": {
   "codemirror_mode": {
    "name": "ipython",
    "version": 3
   },
   "file_extension": ".py",
   "mimetype": "text/x-python",
   "name": "python",
   "nbconvert_exporter": "python",
   "pygments_lexer": "ipython3",
   "version": "3.11.3"
  },
  "orig_nbformat": 4
 },
 "nbformat": 4,
 "nbformat_minor": 2
}
