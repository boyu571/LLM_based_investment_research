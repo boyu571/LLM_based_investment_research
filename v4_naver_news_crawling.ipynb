{
 "cells": [
  {
   "cell_type": "code",
   "execution_count": 2,
   "metadata": {},
   "outputs": [],
   "source": [
    "# 필요한 라이브러리를 불러옵니다.\n",
    "import requests\n",
    "from bs4 import BeautifulSoup\n",
    "import time\n",
    "import re\n",
    "import pandas as pd\n",
    "from tqdm.notebook import tqdm "
   ]
  },
  {
   "cell_type": "code",
   "execution_count": 3,
   "metadata": {},
   "outputs": [],
   "source": [
    "# User-Agent 정보를 저장합니다.\n",
    "headers = {\"User-Agent\": \"Mozilla/5.0 (Windows NT 10.0; Win64; x64) Chrome/98.0.4758.102\"}\n",
    "\n",
    "# 검색어와 날짜 범위를 기반으로 URL을 생성하는 함수입니다.\n",
    "def makeUrl(search, start_date, end_date, start_pg=1, end_pg=1):\n",
    "    date_part = \"&pd=3&ds=\" + start_date + \"&de=\" + end_date\n",
    "    return [\"https://search.naver.com/search.naver?where=news&sm=tab_pge&query=\" + search + date_part + \"&sort=2&start=\" + str((i - 1) * 10 + 1) for i in range(start_pg, end_pg + 1)]\n"
   ]
  },
  {
   "cell_type": "code",
   "execution_count": 4,
   "metadata": {},
   "outputs": [],
   "source": [
    "# 주어진 URL에서 네이버 뉴스 기사의 링크를 가져오는 함수입니다.\n",
    "def get_naver_articles(urls):\n",
    "    articles = []\n",
    "    for url in urls:\n",
    "        html = requests.get(url, headers=headers)\n",
    "        soup = BeautifulSoup(html.text, \"html.parser\")\n",
    "        articles += [link.attrs['href'] for link in soup.select(\"div.group_news > ul.list_news > li div.news_area > div.news_info > div.info_group > a.info\") if \"news.naver.com\" in link.attrs['href']]\n",
    "        time.sleep(1)\n",
    "    return articles\n"
   ]
  },
  {
   "cell_type": "code",
   "execution_count": 7,
   "metadata": {},
   "outputs": [],
   "source": [
    "# 주어진 뉴스 기사 URL에서 제목, 내용, 날짜를 크롤링하는 함수입니다.\n",
    "def get_article_content(article_url):\n",
    "    news = requests.get(article_url, headers=headers)\n",
    "    soup = BeautifulSoup(news.text, \"html.parser\")\n",
    "\n",
    "    title = soup.select_one(\"#ct > div.media_end_head.go_trans > div.media_end_head_title > h2\") or soup.select_one(\"#content > div.end_ct > div > h2\")\n",
    "    content = soup.select(\"#dic_area\") or soup.select(\"#articeBody\")\n",
    "    \n",
    "    cleaned_title = re.sub('<[^>]*>', '', str(title))\n",
    "    cleaned_content = re.sub('<[^>]*>', '', ''.join(str(item) for item in content)).replace(\"flash 오류를 우회하기 위한 함수 추가function _flash_removeCallback() {}\", '')\n",
    "\n",
    "    try:\n",
    "        date = soup.select_one(\"div#ct> div.media_end_head.go_trans > div.media_end_head_info.nv_notrans > div.media_end_head_info_datestamp > div > span\").attrs['data-date-time']\n",
    "    except AttributeError:\n",
    "        date = re.sub('<[^>]*>', '', str(soup.select_one(\"#content > div.end_ct > div > div.article_info > span > em\")))\n",
    "\n",
    "    return date, cleaned_title, cleaned_content\n"
   ]
  },
  {
   "cell_type": "code",
   "execution_count": 11,
   "metadata": {},
   "outputs": [
    {
     "data": {
      "application/vnd.jupyter.widget-view+json": {
       "model_id": "f4db0fdb919745f8b695751c26f7bb2b",
       "version_major": 2,
       "version_minor": 0
      },
      "text/plain": [
       "HBox(children=(HTML(value=''), FloatProgress(value=0.0, max=6.0), HTML(value='')))"
      ]
     },
     "metadata": {},
     "output_type": "display_data"
    },
    {
     "name": "stdout",
     "output_type": "stream",
     "text": [
      "\n"
     ]
    },
    {
     "data": {
      "text/html": [
       "<div>\n",
       "<style scoped>\n",
       "    .dataframe tbody tr th:only-of-type {\n",
       "        vertical-align: middle;\n",
       "    }\n",
       "\n",
       "    .dataframe tbody tr th {\n",
       "        vertical-align: top;\n",
       "    }\n",
       "\n",
       "    .dataframe thead th {\n",
       "        text-align: right;\n",
       "    }\n",
       "</style>\n",
       "<table border=\"1\" class=\"dataframe\">\n",
       "  <thead>\n",
       "    <tr style=\"text-align: right;\">\n",
       "      <th></th>\n",
       "      <th>date</th>\n",
       "      <th>title</th>\n",
       "      <th>link</th>\n",
       "      <th>content</th>\n",
       "    </tr>\n",
       "  </thead>\n",
       "  <tbody>\n",
       "    <tr>\n",
       "      <th>0</th>\n",
       "      <td>2017-01-01 12:03:13</td>\n",
       "      <td>[2017 국제 핫이슈]블록체인 기술 확산</td>\n",
       "      <td>https://n.news.naver.com/mnews/article/030/000...</td>\n",
       "      <td>\\n\\t\\t\\t블록체인은 `제2의 인터넷` `넥스트 인터넷`으로 불린다. 새해에는 ...</td>\n",
       "    </tr>\n",
       "    <tr>\n",
       "      <th>1</th>\n",
       "      <td>2017-01-01 16:03:04</td>\n",
       "      <td>[신년기획]블록체인, 금융권 넘어 IT기업도 관심</td>\n",
       "      <td>https://n.news.naver.com/mnews/article/030/000...</td>\n",
       "      <td>\\n\\t\\t\\t“블록체인은 인터넷 이후 나온 가장 혁신적이며 파괴적인 기술이다.”블...</td>\n",
       "    </tr>\n",
       "    <tr>\n",
       "      <th>2</th>\n",
       "      <td>2017-01-02 17:04:01</td>\n",
       "      <td>블록체인 등 최신 핀테크 기술 도입… `금융 한류` 일으키자</td>\n",
       "      <td>https://n.news.naver.com/mnews/article/029/000...</td>\n",
       "      <td>\\n올 세계 은행 80% '블록체인' 도입 전망금융회사 거래 비용 약 30% 절감 ...</td>\n",
       "    </tr>\n",
       "    <tr>\n",
       "      <th>3</th>\n",
       "      <td>2017-01-03 07:28:03</td>\n",
       "      <td>비트코인, 3년만에 처음으로 1000달러 돌파</td>\n",
       "      <td>https://n.news.naver.com/mnews/article/018/000...</td>\n",
       "      <td>\\n\\t\\t\\t[이데일리 김경민 기자] 디지털 화폐인 비트코인 가격이 3년 만에 처...</td>\n",
       "    </tr>\n",
       "    <tr>\n",
       "      <th>4</th>\n",
       "      <td>2017-01-03 10:49:02</td>\n",
       "      <td>'암호화 화폐' 비트코인, 3년만에 1천달러 돌파</td>\n",
       "      <td>https://n.news.naver.com/mnews/article/092/000...</td>\n",
       "      <td>\\n\\t\\t\\t(지디넷코리아=손경호 기자)전 세계에서 가장 많이 쓰이고 있는 암호화...</td>\n",
       "    </tr>\n",
       "    <tr>\n",
       "      <th>5</th>\n",
       "      <td>2017-01-03 16:48:03</td>\n",
       "      <td>KISA, 암호기술팀·블록체인TF 신설</td>\n",
       "      <td>https://n.news.naver.com/mnews/article/031/000...</td>\n",
       "      <td>\\n\\t\\t\\t&amp;lt;아이뉴스24&amp;gt;[아이뉴스24 성지은기자] 한국인터넷진흥원(...</td>\n",
       "    </tr>\n",
       "  </tbody>\n",
       "</table>\n",
       "</div>"
      ],
      "text/plain": [
       "                  date                              title  \\\n",
       "0  2017-01-01 12:03:13            [2017 국제 핫이슈]블록체인 기술 확산   \n",
       "1  2017-01-01 16:03:04        [신년기획]블록체인, 금융권 넘어 IT기업도 관심   \n",
       "2  2017-01-02 17:04:01  블록체인 등 최신 핀테크 기술 도입… `금융 한류` 일으키자   \n",
       "3  2017-01-03 07:28:03          비트코인, 3년만에 처음으로 1000달러 돌파   \n",
       "4  2017-01-03 10:49:02        '암호화 화폐' 비트코인, 3년만에 1천달러 돌파   \n",
       "5  2017-01-03 16:48:03              KISA, 암호기술팀·블록체인TF 신설   \n",
       "\n",
       "                                                link  \\\n",
       "0  https://n.news.naver.com/mnews/article/030/000...   \n",
       "1  https://n.news.naver.com/mnews/article/030/000...   \n",
       "2  https://n.news.naver.com/mnews/article/029/000...   \n",
       "3  https://n.news.naver.com/mnews/article/018/000...   \n",
       "4  https://n.news.naver.com/mnews/article/092/000...   \n",
       "5  https://n.news.naver.com/mnews/article/031/000...   \n",
       "\n",
       "                                             content  \n",
       "0  \\n\\t\\t\\t블록체인은 `제2의 인터넷` `넥스트 인터넷`으로 불린다. 새해에는 ...  \n",
       "1  \\n\\t\\t\\t“블록체인은 인터넷 이후 나온 가장 혁신적이며 파괴적인 기술이다.”블...  \n",
       "2  \\n올 세계 은행 80% '블록체인' 도입 전망금융회사 거래 비용 약 30% 절감 ...  \n",
       "3  \\n\\t\\t\\t[이데일리 김경민 기자] 디지털 화폐인 비트코인 가격이 3년 만에 처...  \n",
       "4  \\n\\t\\t\\t(지디넷코리아=손경호 기자)전 세계에서 가장 많이 쓰이고 있는 암호화...  \n",
       "5  \\n\\t\\t\\t&lt;아이뉴스24&gt;[아이뉴스24 성지은기자] 한국인터넷진흥원(...  "
      ]
     },
     "metadata": {},
     "output_type": "display_data"
    }
   ],
   "source": [
    "# 기존의 main 함수를 수정하여 search, start_date, end_date를 반환하도록 합니다.\n",
    "def main():\n",
    "    search = input(\"검색할 키워드를 입력해주세요:\")\n",
    "    start_date = input(\"\\n크롤링할 시작 날짜를 입력해주세요. ex)2022.01.01:\")\n",
    "    end_date = input(\"\\n크롤링할 종료 날짜를 입력해주세요. ex)2022.12.31:\")\n",
    "\n",
    "    urls = makeUrl(search, start_date, end_date)\n",
    "    article_urls = get_naver_articles(urls)\n",
    "    \n",
    "    dates, titles, contents, links = [], [], [], []\n",
    "    for url in tqdm(article_urls):\n",
    "        date, title, content = get_article_content(url)\n",
    "        dates.append(date)\n",
    "        titles.append(title)\n",
    "        contents.append(content)\n",
    "        links.append(url)\n",
    "    \n",
    "    df = pd.DataFrame({'date': dates, 'title': titles, 'link': links, 'content': contents})\n",
    "    df.drop_duplicates(keep='first', inplace=True, ignore_index=True)\n",
    "    display(df)  # Jupyter Notebook에서 DataFrame을 보기 좋게 출력하기 위해 display 함수를 사용합니다.\n",
    "    \n",
    "    return search, start_date, end_date, df\n",
    "\n",
    "# main 함수를 실행하고 반환된 값을 변수에 할당합니다.\n",
    "search, start_date, end_date, df = main()\n"
   ]
  },
  {
   "cell_type": "code",
   "execution_count": 12,
   "metadata": {},
   "outputs": [],
   "source": [
    "#데이터 프레임 저장\n",
    "filename = '{}_{}_{}.csv'.format(search, start_date.replace(\".\", \"\"), end_date.replace(\".\", \"\"))\n",
    "df.to_csv(filename, encoding='utf-8-sig', index=False)"
   ]
  }
 ],
 "metadata": {
  "kernelspec": {
   "display_name": "base",
   "language": "python",
   "name": "python3"
  },
  "language_info": {
   "codemirror_mode": {
    "name": "ipython",
    "version": 3
   },
   "file_extension": ".py",
   "mimetype": "text/x-python",
   "name": "python",
   "nbconvert_exporter": "python",
   "pygments_lexer": "ipython3",
   "version": "3.8.5"
  },
  "orig_nbformat": 4
 },
 "nbformat": 4,
 "nbformat_minor": 2
}
