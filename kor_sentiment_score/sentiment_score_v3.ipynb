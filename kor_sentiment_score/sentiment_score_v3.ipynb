{
 "cells": [
  {
   "cell_type": "code",
   "execution_count": 2,
   "metadata": {},
   "outputs": [],
   "source": [
    "import openai\n",
    "import os\n",
    "import pandas as pd\n",
    "import time\n",
    "\n",
    "openai.api_key = \"\""
   ]
  },
  {
   "cell_type": "markdown",
   "metadata": {},
   "source": [
    "# 0. 데이터 불러오기"
   ]
  },
  {
   "cell_type": "code",
   "execution_count": 4,
   "metadata": {},
   "outputs": [
    {
     "data": {
      "text/html": [
       "<div>\n",
       "<style scoped>\n",
       "    .dataframe tbody tr th:only-of-type {\n",
       "        vertical-align: middle;\n",
       "    }\n",
       "\n",
       "    .dataframe tbody tr th {\n",
       "        vertical-align: top;\n",
       "    }\n",
       "\n",
       "    .dataframe thead th {\n",
       "        text-align: right;\n",
       "    }\n",
       "</style>\n",
       "<table border=\"1\" class=\"dataframe\">\n",
       "  <thead>\n",
       "    <tr style=\"text-align: right;\">\n",
       "      <th></th>\n",
       "      <th>UTC-date</th>\n",
       "      <th>UTC-time</th>\n",
       "      <th>title</th>\n",
       "      <th>content</th>\n",
       "      <th>press</th>\n",
       "      <th>link</th>\n",
       "    </tr>\n",
       "  </thead>\n",
       "  <tbody>\n",
       "    <tr>\n",
       "      <th>0</th>\n",
       "      <td>2016-12-31</td>\n",
       "      <td>2016-12-31 22:00:00</td>\n",
       "      <td>한국 금융산업 위기… ‘우버 모멘트’ 를 넘어라</td>\n",
       "      <td>© News1저금리·저성장 전통 금융산업 위기4차 산업혁명...세계는 핀테크 혁명 ...</td>\n",
       "      <td>뉴스1</td>\n",
       "      <td>https://n.news.naver.com/mnews/article/421/000...</td>\n",
       "    </tr>\n",
       "    <tr>\n",
       "      <th>1</th>\n",
       "      <td>2017-01-01</td>\n",
       "      <td>2017-01-01 06:15:04</td>\n",
       "      <td>英 파운드, 2016년 최악의 통화 ···'디지털통화' 비트코인 최고의 수익자산...</td>\n",
       "      <td>【뉴욕=정지원 특파원】 영국의 파운드가 2106년 최악의 통화로 기록됐다. 파운드는...</td>\n",
       "      <td>파이낸셜뉴스</td>\n",
       "      <td>https://n.news.naver.com/mnews/article/014/000...</td>\n",
       "    </tr>\n",
       "    <tr>\n",
       "      <th>2</th>\n",
       "      <td>2017-01-01</td>\n",
       "      <td>2017-01-01 07:03:04</td>\n",
       "      <td>[신년기획]블록체인, 금융권 넘어 IT기업도 관심</td>\n",
       "      <td>“블록체인은 인터넷 이후 나온 가장 혁신적이며 파괴적인 기술이다.”블록체인을 바라보...</td>\n",
       "      <td>39면 1단</td>\n",
       "      <td>https://n.news.naver.com/mnews/article/030/000...</td>\n",
       "    </tr>\n",
       "    <tr>\n",
       "      <th>3</th>\n",
       "      <td>2017-01-02</td>\n",
       "      <td>2017-01-02 09:47:22</td>\n",
       "      <td>공공기관·기업 대상으로 랜섬웨어 다량 유포…관계자 주의 필요</td>\n",
       "      <td>[아시아경제 박소연 기자]이스트소프트는 2일 국내 주요 국가 기관과 기업을 대상으로...</td>\n",
       "      <td>아시아경제</td>\n",
       "      <td>https://n.news.naver.com/mnews/article/277/000...</td>\n",
       "    </tr>\n",
       "    <tr>\n",
       "      <th>4</th>\n",
       "      <td>2017-01-02</td>\n",
       "      <td>2017-01-02 08:04:01</td>\n",
       "      <td>블록체인 등 최신 핀테크 기술 도입… `금융 한류` 일으키자</td>\n",
       "      <td>올 세계 은행 80% '블록체인' 도입 전망금융회사 거래 비용 약 30% 절감 예측...</td>\n",
       "      <td>4면 TOP</td>\n",
       "      <td>https://n.news.naver.com/mnews/article/029/000...</td>\n",
       "    </tr>\n",
       "    <tr>\n",
       "      <th>...</th>\n",
       "      <td>...</td>\n",
       "      <td>...</td>\n",
       "      <td>...</td>\n",
       "      <td>...</td>\n",
       "      <td>...</td>\n",
       "      <td>...</td>\n",
       "    </tr>\n",
       "    <tr>\n",
       "      <th>22204</th>\n",
       "      <td>2023-08-30</td>\n",
       "      <td>2023-08-30 02:13:01</td>\n",
       "      <td>웨이브릿지, 빈터와 전통·가상자산 혼합형 전략 지수 발표</td>\n",
       "      <td>사진=웨이브릿지퀀트 기반 핀테크 기업 웨이브릿지가 글로벌 지수 빈터(Vinter)와...</td>\n",
       "      <td>한국경제</td>\n",
       "      <td>https://n.news.naver.com/mnews/article/015/000...</td>\n",
       "    </tr>\n",
       "    <tr>\n",
       "      <th>22205</th>\n",
       "      <td>2023-08-30</td>\n",
       "      <td>2023-08-30 02:14:01</td>\n",
       "      <td>CJ ONE, 디지털 멤버십 NFT 발행</td>\n",
       "      <td>구매고객에 매달 최대 1만 포인트CJ올리브네트웍스가 운영하는 라이프스타일 멤버십 서...</td>\n",
       "      <td>16면 1단</td>\n",
       "      <td>https://n.news.naver.com/mnews/article/016/000...</td>\n",
       "    </tr>\n",
       "    <tr>\n",
       "      <th>22206</th>\n",
       "      <td>2023-08-30</td>\n",
       "      <td>2023-08-30 02:31:01</td>\n",
       "      <td>‘신뢰’ 등에 업은 페이팔의 스테이블 코인, 시장의 메기가 될까[비트코인 A...</td>\n",
       "      <td>미국 캘리포니아주에 위치한 페이팔 본사./연합뉴스결제 공룡 페이팔이 스테이블 코인 ...</td>\n",
       "      <td>한경비즈니스</td>\n",
       "      <td>https://n.news.naver.com/mnews/article/050/000...</td>\n",
       "    </tr>\n",
       "    <tr>\n",
       "      <th>22207</th>\n",
       "      <td>2023-08-30</td>\n",
       "      <td>2023-08-30 01:50:07</td>\n",
       "      <td>웨이브릿지, HAAM 전략 지수 개발…'코인 투자 손실률 최소화'</td>\n",
       "      <td>글로벌 지수 사업자 '빈터'와 맞손[ⓒ웨이브릿지][디지털데일리 박세아 기자] 퀀트 ...</td>\n",
       "      <td>디지털데일리</td>\n",
       "      <td>https://n.news.naver.com/mnews/article/138/000...</td>\n",
       "    </tr>\n",
       "    <tr>\n",
       "      <th>22208</th>\n",
       "      <td>2023-08-30</td>\n",
       "      <td>2023-08-30 01:31:36</td>\n",
       "      <td>올해 상반기 금융사 '의심 거래' 보고 10% 늘어</td>\n",
       "      <td>올해 상반기 금융사들의 의심 거래 보고 건수가 지난해보다 10% 가까이 늘어난 것으...</td>\n",
       "      <td>YTN</td>\n",
       "      <td>https://n.news.naver.com/mnews/article/052/000...</td>\n",
       "    </tr>\n",
       "  </tbody>\n",
       "</table>\n",
       "<p>22209 rows × 6 columns</p>\n",
       "</div>"
      ],
      "text/plain": [
       "         UTC-date             UTC-time  \\\n",
       "0      2016-12-31  2016-12-31 22:00:00   \n",
       "1      2017-01-01  2017-01-01 06:15:04   \n",
       "2      2017-01-01  2017-01-01 07:03:04   \n",
       "3      2017-01-02  2017-01-02 09:47:22   \n",
       "4      2017-01-02  2017-01-02 08:04:01   \n",
       "...           ...                  ...   \n",
       "22204  2023-08-30  2023-08-30 02:13:01   \n",
       "22205  2023-08-30  2023-08-30 02:14:01   \n",
       "22206  2023-08-30  2023-08-30 02:31:01   \n",
       "22207  2023-08-30  2023-08-30 01:50:07   \n",
       "22208  2023-08-30  2023-08-30 01:31:36   \n",
       "\n",
       "                                                 title  \\\n",
       "0                           한국 금융산업 위기… ‘우버 모멘트’ 를 넘어라   \n",
       "1      英 파운드, 2016년 최악의 통화 ···'디지털통화' 비트코인 최고의 수익자산...   \n",
       "2                          [신년기획]블록체인, 금융권 넘어 IT기업도 관심   \n",
       "3                    공공기관·기업 대상으로 랜섬웨어 다량 유포…관계자 주의 필요   \n",
       "4                    블록체인 등 최신 핀테크 기술 도입… `금융 한류` 일으키자   \n",
       "...                                                ...   \n",
       "22204                  웨이브릿지, 빈터와 전통·가상자산 혼합형 전략 지수 발표   \n",
       "22205                           CJ ONE, 디지털 멤버십 NFT 발행   \n",
       "22206    ‘신뢰’ 등에 업은 페이팔의 스테이블 코인, 시장의 메기가 될까[비트코인 A...   \n",
       "22207             웨이브릿지, HAAM 전략 지수 개발…'코인 투자 손실률 최소화'   \n",
       "22208                     올해 상반기 금융사 '의심 거래' 보고 10% 늘어   \n",
       "\n",
       "                                                 content   press  \\\n",
       "0      © News1저금리·저성장 전통 금융산업 위기4차 산업혁명...세계는 핀테크 혁명 ...     뉴스1   \n",
       "1      【뉴욕=정지원 특파원】 영국의 파운드가 2106년 최악의 통화로 기록됐다. 파운드는...  파이낸셜뉴스   \n",
       "2      “블록체인은 인터넷 이후 나온 가장 혁신적이며 파괴적인 기술이다.”블록체인을 바라보...  39면 1단   \n",
       "3      [아시아경제 박소연 기자]이스트소프트는 2일 국내 주요 국가 기관과 기업을 대상으로...   아시아경제   \n",
       "4      올 세계 은행 80% '블록체인' 도입 전망금융회사 거래 비용 약 30% 절감 예측...  4면 TOP   \n",
       "...                                                  ...     ...   \n",
       "22204  사진=웨이브릿지퀀트 기반 핀테크 기업 웨이브릿지가 글로벌 지수 빈터(Vinter)와...    한국경제   \n",
       "22205  구매고객에 매달 최대 1만 포인트CJ올리브네트웍스가 운영하는 라이프스타일 멤버십 서...  16면 1단   \n",
       "22206  미국 캘리포니아주에 위치한 페이팔 본사./연합뉴스결제 공룡 페이팔이 스테이블 코인 ...  한경비즈니스   \n",
       "22207  글로벌 지수 사업자 '빈터'와 맞손[ⓒ웨이브릿지][디지털데일리 박세아 기자] 퀀트 ...  디지털데일리   \n",
       "22208  올해 상반기 금융사들의 의심 거래 보고 건수가 지난해보다 10% 가까이 늘어난 것으...     YTN   \n",
       "\n",
       "                                                    link  \n",
       "0      https://n.news.naver.com/mnews/article/421/000...  \n",
       "1      https://n.news.naver.com/mnews/article/014/000...  \n",
       "2      https://n.news.naver.com/mnews/article/030/000...  \n",
       "3      https://n.news.naver.com/mnews/article/277/000...  \n",
       "4      https://n.news.naver.com/mnews/article/029/000...  \n",
       "...                                                  ...  \n",
       "22204  https://n.news.naver.com/mnews/article/015/000...  \n",
       "22205  https://n.news.naver.com/mnews/article/016/000...  \n",
       "22206  https://n.news.naver.com/mnews/article/050/000...  \n",
       "22207  https://n.news.naver.com/mnews/article/138/000...  \n",
       "22208  https://n.news.naver.com/mnews/article/052/000...  \n",
       "\n",
       "[22209 rows x 6 columns]"
      ]
     },
     "execution_count": 4,
     "metadata": {},
     "output_type": "execute_result"
    }
   ],
   "source": [
    "data = pd.read_csv(r'C:\\Users\\user\\boyu571_github\\01_Kakaobank_SKKU_Research_23\\sentiment_data\\sim_del_naver_news_data_v3.csv')\n",
    "data"
   ]
  },
  {
   "cell_type": "code",
   "execution_count": 6,
   "metadata": {},
   "outputs": [],
   "source": [
    "df = data"
   ]
  },
  {
   "cell_type": "code",
   "execution_count": 8,
   "metadata": {},
   "outputs": [
    {
     "name": "stdout",
     "output_type": "stream",
     "text": [
      "         UTC-date             UTC-time                                  title  \\\n",
      "1533   2017-12-01  2017-12-01 08:45:42     비트코인 하루만에 20% 폭락.. 금융당국 화폐가치 의견 갈려   \n",
      "1534   2017-12-01  2017-12-01 08:31:22          '이게 통화냐' 경고에도 비트코인 포용 움직임 잇따라   \n",
      "1535   2017-12-01  2017-12-01 07:06:00              [매경e신문] 오늘의 프리미엄 (12월 2일)   \n",
      "1536   2017-12-01  2017-12-01 08:20:46  프랑스은행 총재 비트코인 위험 재차 경고 “투자자 스스로 책임져야”   \n",
      "1537   2017-12-01  2017-12-01 08:03:27         <<마켓토론>> 변곡점에 있는 증시 12월 하반기 전망   \n",
      "...           ...                  ...                                    ...   \n",
      "22189  2023-08-28  2023-08-28 07:31:01        업비트, AI로 가상자산 범죄 차단 “이상거래 철통방어”   \n",
      "22190  2023-08-28  2023-08-28 14:38:14   [사설] 방탄에 갇힌 이재명 대표 1년… 철저한 성찰과 쇄신 절실   \n",
      "22191  2023-08-28  2023-08-28 02:21:01                   관세청, 환전영업자 불법행위 집중단속   \n",
      "22192  2023-08-28  2023-08-28 06:10:01        NFT와 예술의 결합 다룬 국제 콘퍼런스, 서울서 열린다   \n",
      "22193  2023-08-28  2023-08-28 01:58:00   '2023 K 글로벌 하트 드림 어워즈'가 전하는 '선한 영향력'   \n",
      "\n",
      "                                                 content    press  \\\n",
      "1533   \\r“우리 시대 가장 큰 거품” “과거에도 급락 이후 회복”     지난달 사상 최...    6면 2단   \n",
      "1534   \\r골드만삭스 CEO \"통화로 느껴지지 않아\"…연준 부의장 \"금융시스템에 위협\"\"비...     연합뉴스   \n",
      "1535   \\r\\r\\r● [영상] 윤성은의 썸무비 올해 한국 영화 가성비 갑은?● 튤립버블부터...     매일경제   \n",
      "1536   \\r\\r\\r\\r\\r프랑수아 빌레이 드 갈로 프랑스은행 총재. AFP[이데일리 김형욱...     이데일리   \n",
      "1537   \\r[한국경제TV 박두나 PD][증시 라인 11]- 앵커 : 김동환 경제 칼럼니스트...   한국경제TV   \n",
      "...                                                  ...      ...   \n",
      "22189  FDS와 입출금 모니터링 시스템 지속 고도화해 범죄 사전 예방…심 스와핑도 잡아낸다...     매일신문   \n",
      "22190     더불어민주당 이재명 대표가 어제(28일) 취임 1년을 맞았다. 이 대표는 지난...  A27면 1단   \n",
      "22191  관세청은 환전소가 보이스피싱, 가상자산·부동산 투기, 밀수출·입 등 각종 범죄 자금...     한국경제   \n",
      "22192  홍지숙 아트토큰 대표. 아트토큰은 다음 달 1일 서울 삼성동 코엑스에서 예술과 NF...   13면 1단   \n",
      "22193   사진='2023 K 글로벌 하트 드림 어워즈'‘2023 케이 글로벌 하트 드림 어...     전자신문   \n",
      "\n",
      "                                                    link  \n",
      "1533   https://n.news.naver.com/mnews/article/014/000...  \n",
      "1534   https://n.news.naver.com/mnews/article/001/000...  \n",
      "1535   https://n.news.naver.com/mnews/article/009/000...  \n",
      "1536   https://n.news.naver.com/mnews/article/018/000...  \n",
      "1537   https://n.news.naver.com/mnews/article/215/000...  \n",
      "...                                                  ...  \n",
      "22189  https://n.news.naver.com/mnews/article/088/000...  \n",
      "22190  https://n.news.naver.com/mnews/article/022/000...  \n",
      "22191  https://n.news.naver.com/mnews/article/015/000...  \n",
      "22192  https://n.news.naver.com/mnews/article/469/000...  \n",
      "22193  https://n.news.naver.com/mnews/article/030/000...  \n",
      "\n",
      "[20661 rows x 6 columns]\n"
     ]
    }
   ],
   "source": [
    "# 날짜 범위 지정\n",
    "start_date = '2017-12-01'\n",
    "end_date = '2023-08-28'\n",
    "\n",
    "# 날짜 범위에 해당하는 행 필터링\n",
    "filtered_df = df[(df['UTC-date'] >= start_date) & (df['UTC-date'] <= end_date)]\n",
    "\n",
    "print(filtered_df)"
   ]
  },
  {
   "cell_type": "code",
   "execution_count": null,
   "metadata": {},
   "outputs": [],
   "source": []
  },
  {
   "cell_type": "markdown",
   "metadata": {},
   "source": [
    "### model"
   ]
  },
  {
   "cell_type": "code",
   "execution_count": 3,
   "metadata": {},
   "outputs": [],
   "source": [
    "# def get_completion(prompt, model=\"gpt-3.5-turbo\"):\n",
    "#     messages = [{\"role\": \"user\", \"content\": prompt}]\n",
    "#     response = openai.ChatCompletion.create(\n",
    "#         model=model,\n",
    "#         messages=messages,\n",
    "#         temperature=0,\n",
    "#     )\n",
    "#     return response.choices[0].message[\"content\"]"
   ]
  },
  {
   "cell_type": "code",
   "execution_count": 3,
   "metadata": {},
   "outputs": [],
   "source": [
    "def get_completion_16k(prompt, model=\"gpt-3.5-turbo-16k\"):\n",
    "    messages = [{\"role\": \"user\", \"content\": prompt}]\n",
    "    response = openai.ChatCompletion.create(\n",
    "        model=model,\n",
    "        messages=messages,\n",
    "        temperature=0,\n",
    "    )\n",
    "    return response.choices[0].message[\"content\"]\n",
    "\n",
    "def get_completion_with_delay(x):\n",
    "    result = get_completion_16k(x)\n",
    "    time.sleep(2)\n",
    "    return result"
   ]
  },
  {
   "cell_type": "code",
   "execution_count": 5,
   "metadata": {},
   "outputs": [],
   "source": [
    "# def get_completion_4(prompt, model=\"gpt-4\"):\n",
    "#     messages = [{\"role\": \"user\", \"content\": prompt}]\n",
    "#     response = openai.ChatCompletion.create(\n",
    "#         model=model,\n",
    "#         messages=messages,\n",
    "#         temperature=0,\n",
    "#     )\n",
    "#     return response.choices[0].message[\"content\"]"
   ]
  },
  {
   "cell_type": "markdown",
   "metadata": {},
   "source": [
    "# 1. 제목 + 본문 sentiment"
   ]
  },
  {
   "cell_type": "code",
   "execution_count": 43,
   "metadata": {},
   "outputs": [],
   "source": [
    "prompt1 = \"이전 지시사항은 모두 무시하십시오. 당신은 금융 전문가로 가정하며 금융자산 추천 경험이 있습니다. 만약 기사의 제목과 내용이 다음날 한국에서 거래되는 암호화폐의 가격에 좋은 소식이 확실하다면 1에 가까운 수를, 나쁜 소식이 확실하다면 –1에 가까운 수, 불확실하거나 암호화폐 가격에 대한 정보가 부족한 경우 0에 가까운 수로 답변해주세요. 다시 말해, 뉴스 기사 제목과 내용을 읽고 다음날 암호화폐 가격에 대해 좋은 소식인지, 아니면 나쁜 소식인지, 혹은 불확실한지를 –1과 1 사이의 실수로만 답하세요. 기사 내에 여러 개의 기사나 내용이 있다면 종합적으로 고려하여 여러개의 숫자가 아닌 하나의 숫자로만 답변하세요. 설명이나 추가적인 텍스트 없이 숫자만 답변하세요.\""
   ]
  },
  {
   "cell_type": "code",
   "execution_count": null,
   "metadata": {},
   "outputs": [],
   "source": [
    "# 결과를 저장할 빈 데이터프레임을 초기화합니다.\n",
    "result1 = pd.DataFrame()"
   ]
  },
  {
   "cell_type": "code",
   "execution_count": null,
   "metadata": {},
   "outputs": [],
   "source": [
    "# data의 모든 행을 100행씩 처리합니다.\n",
    "for i in range(0, len(data), 100):\n",
    "    subset = data.iloc[i:i+100]\n",
    "    subset['score'] = (prompt1 + '제목:' + subset['title'] + '내용:' + subset['content']).apply(get_completion_with_delay)\n",
    "    result1 = result1.append(subset)\n",
    "\n",
    "result1.reset_index(drop=True, inplace=True)\n",
    "result1"
   ]
  },
  {
   "cell_type": "code",
   "execution_count": null,
   "metadata": {},
   "outputs": [],
   "source": [
    "result1.to_csv('result1.csv', encoding='utf-8-sig')"
   ]
  },
  {
   "cell_type": "markdown",
   "metadata": {},
   "source": [
    "# 2. 제목 sentiment"
   ]
  },
  {
   "cell_type": "code",
   "execution_count": 46,
   "metadata": {},
   "outputs": [],
   "source": [
    "prompt2 = \"이전 지시사항은 모두 무시하십시오. 당신은 금융 전문가로 가정하며 금융자산 추천 경험이 있습니다. 만약 기사의 제목이 다음날 한국에서 거래되는 암호화폐의 가격에 좋은 소식이 확실하다면 1에 가까운 수를, 나쁜 소식이 확실하다면 –1에 가까운 수, 불확실하거나 암호화폐 가격에 대한 정보가 부족한 경우 0에 가까운 수로 답변해주세요. 다시 말해, 뉴스 기사 제목을 읽고 다음날 암호화폐 가격에 대해 좋은 소식인지, 아니면 나쁜 소식인지, 혹은 불확실한지를 –1과 1 사이의 실수로만 답하세요. 기사 내에 여러 개의 기사나 내용이 있다면 종합적으로 고려하여 여러개의 숫자가 아닌 하나의 숫자로만 답변하세요. 설명이나 추가적인 텍스트 없이 숫자만 답변하세요.\""
   ]
  },
  {
   "cell_type": "code",
   "execution_count": null,
   "metadata": {},
   "outputs": [],
   "source": [
    "# 결과를 저장할 빈 데이터프레임을 초기화합니다.\n",
    "result2 = pd.DataFrame()"
   ]
  },
  {
   "cell_type": "code",
   "execution_count": null,
   "metadata": {},
   "outputs": [],
   "source": [
    "# data의 모든 행을 100행씩 처리합니다.\n",
    "for i in range(0, len(data), 100):\n",
    "    subset = data.iloc[i:i+100]\n",
    "    subset['score_title'] = (prompt2 + '제목:' + subset['title']).apply(get_completion_with_delay)\n",
    "    result2 = result2.append(subset)\n",
    "\n",
    "result2.reset_index(drop=True, inplace=True)\n",
    "result2"
   ]
  },
  {
   "cell_type": "code",
   "execution_count": null,
   "metadata": {},
   "outputs": [],
   "source": [
    "result2.to_csv('result2.csv', encoding='utf-8-sig')"
   ]
  },
  {
   "cell_type": "markdown",
   "metadata": {},
   "source": [
    "# 3. 본문 sentiment"
   ]
  },
  {
   "cell_type": "code",
   "execution_count": 7,
   "metadata": {},
   "outputs": [],
   "source": [
    "prompt3 = \"이전 지시사항은 모두 무시하십시오. 당신은 금융 전문가로 가정하며 금융자산 추천 경험이 있습니다. 만약 기사의 내용이 다음날 한국에서 거래되는 암호화폐의 가격에 좋은 소식이 확실하다면 1에 가까운 수를, 나쁜 소식이 확실하다면 –1에 가까운 수, 불확실하거나 암호화폐 가격에 대한 정보가 부족한 경우 0에 가까운 수로 답변해주세요. 다시 말해, 뉴스 기사 내용을 읽고 다음날 암호화폐 가격에 대해 좋은 소식인지, 아니면 나쁜 소식인지, 혹은 불확실한지를 –1과 1 사이의 실수로만 답하세요. 기사 내에 여러 개의 기사나 내용이 있다면 종합적으로 고려하여 여러개의 숫자가 아닌 하나의 숫자로만 답변하세요. 설명이나 추가적인 텍스트 없이 숫자만 답변하세요.\""
   ]
  },
  {
   "cell_type": "code",
   "execution_count": null,
   "metadata": {},
   "outputs": [],
   "source": [
    "# 결과를 저장할 빈 데이터프레임을 초기화합니다.\n",
    "result3 = pd.DataFrame()"
   ]
  },
  {
   "cell_type": "code",
   "execution_count": null,
   "metadata": {},
   "outputs": [],
   "source": [
    "# data의 모든 행을 100행씩 처리합니다.\n",
    "for i in range(0, len(data), 100):\n",
    "    subset = data.iloc[i:i+100]\n",
    "    subset['score_content'] = (prompt3 +'내용:' + subset['content']).apply(get_completion_with_delay)\n",
    "    result3 = result3.append(subset)\n",
    "\n",
    "result3.reset_index(drop=True, inplace=True)\n",
    "result3"
   ]
  },
  {
   "cell_type": "code",
   "execution_count": null,
   "metadata": {},
   "outputs": [],
   "source": [
    "result3.to_csv('result3.csv', encoding='utf-8-sig')"
   ]
  }
 ],
 "metadata": {
  "kernelspec": {
   "display_name": "base",
   "language": "python",
   "name": "python3"
  },
  "language_info": {
   "codemirror_mode": {
    "name": "ipython",
    "version": 3
   },
   "file_extension": ".py",
   "mimetype": "text/x-python",
   "name": "python",
   "nbconvert_exporter": "python",
   "pygments_lexer": "ipython3",
   "version": "3.8.5"
  },
  "orig_nbformat": 4
 },
 "nbformat": 4,
 "nbformat_minor": 2
}
